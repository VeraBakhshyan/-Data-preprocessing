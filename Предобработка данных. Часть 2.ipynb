{
 "cells": [
  {
   "cell_type": "markdown",
   "id": "0b99eea6",
   "metadata": {
    "deletable": false,
    "editable": false,
    "id": "c81daeeb"
   },
   "source": [
    "# Исследование надежности заемщиков\n"
   ]
  },
  {
   "cell_type": "markdown",
   "id": "66a1acab",
   "metadata": {
    "deletable": false,
    "editable": false,
    "id": "827c20bf"
   },
   "source": [
    "Во второй части проекта вы выполните шаги 3 и 4. Их вручную проверит ревьюер.\n",
    "Чтобы вам не пришлось писать код заново для шагов 1 и 2, мы добавили авторские решения в ячейки с кодом. \n",
    "\n"
   ]
  },
  {
   "cell_type": "markdown",
   "id": "2db02873",
   "metadata": {
    "deletable": false,
    "editable": false,
    "id": "744d7639"
   },
   "source": [
    "## Откройте таблицу и изучите общую информацию о данных"
   ]
  },
  {
   "cell_type": "markdown",
   "id": "b7b94a78",
   "metadata": {
    "deletable": false,
    "editable": false,
    "id": "e7a14c31"
   },
   "source": [
    "**Задание 1. Импортируйте библиотеку pandas. Считайте данные из csv-файла в датафрейм и сохраните в переменную `data`. Путь к файлу:**\n",
    "\n",
    "`/datasets/data.csv`"
   ]
  },
  {
   "cell_type": "code",
   "execution_count": 1,
   "id": "350209c4",
   "metadata": {
    "deletable": false,
    "id": "7bcf75c9"
   },
   "outputs": [],
   "source": [
    "import pandas as pd\n",
    "\n",
    "try:\n",
    "    data = pd.read_csv('/datasets/data.csv')\n",
    "except:\n",
    "    data = pd.read_csv('https://code.s3.yandex.net/datasets/data.csv')"
   ]
  },
  {
   "cell_type": "markdown",
   "id": "1ed25377",
   "metadata": {
    "deletable": false,
    "editable": false,
    "id": "b8038fe3"
   },
   "source": [
    "**Задание 2. Выведите первые 20 строчек датафрейма `data` на экран.**"
   ]
  },
  {
   "cell_type": "code",
   "execution_count": 2,
   "id": "bd1e9427",
   "metadata": {
    "deletable": false,
    "id": "2a7cab99",
    "outputId": "1a8f3ef2-d323-4ec2-ddf7-89670b5944c4"
   },
   "outputs": [
    {
     "data": {
      "text/html": [
       "<div>\n",
       "<style scoped>\n",
       "    .dataframe tbody tr th:only-of-type {\n",
       "        vertical-align: middle;\n",
       "    }\n",
       "\n",
       "    .dataframe tbody tr th {\n",
       "        vertical-align: top;\n",
       "    }\n",
       "\n",
       "    .dataframe thead th {\n",
       "        text-align: right;\n",
       "    }\n",
       "</style>\n",
       "<table border=\"1\" class=\"dataframe\">\n",
       "  <thead>\n",
       "    <tr style=\"text-align: right;\">\n",
       "      <th></th>\n",
       "      <th>children</th>\n",
       "      <th>days_employed</th>\n",
       "      <th>dob_years</th>\n",
       "      <th>education</th>\n",
       "      <th>education_id</th>\n",
       "      <th>family_status</th>\n",
       "      <th>family_status_id</th>\n",
       "      <th>gender</th>\n",
       "      <th>income_type</th>\n",
       "      <th>debt</th>\n",
       "      <th>total_income</th>\n",
       "      <th>purpose</th>\n",
       "    </tr>\n",
       "  </thead>\n",
       "  <tbody>\n",
       "    <tr>\n",
       "      <th>0</th>\n",
       "      <td>1</td>\n",
       "      <td>-8437.673028</td>\n",
       "      <td>42</td>\n",
       "      <td>высшее</td>\n",
       "      <td>0</td>\n",
       "      <td>женат / замужем</td>\n",
       "      <td>0</td>\n",
       "      <td>F</td>\n",
       "      <td>сотрудник</td>\n",
       "      <td>0</td>\n",
       "      <td>253875.639453</td>\n",
       "      <td>покупка жилья</td>\n",
       "    </tr>\n",
       "    <tr>\n",
       "      <th>1</th>\n",
       "      <td>1</td>\n",
       "      <td>-4024.803754</td>\n",
       "      <td>36</td>\n",
       "      <td>среднее</td>\n",
       "      <td>1</td>\n",
       "      <td>женат / замужем</td>\n",
       "      <td>0</td>\n",
       "      <td>F</td>\n",
       "      <td>сотрудник</td>\n",
       "      <td>0</td>\n",
       "      <td>112080.014102</td>\n",
       "      <td>приобретение автомобиля</td>\n",
       "    </tr>\n",
       "    <tr>\n",
       "      <th>2</th>\n",
       "      <td>0</td>\n",
       "      <td>-5623.422610</td>\n",
       "      <td>33</td>\n",
       "      <td>Среднее</td>\n",
       "      <td>1</td>\n",
       "      <td>женат / замужем</td>\n",
       "      <td>0</td>\n",
       "      <td>M</td>\n",
       "      <td>сотрудник</td>\n",
       "      <td>0</td>\n",
       "      <td>145885.952297</td>\n",
       "      <td>покупка жилья</td>\n",
       "    </tr>\n",
       "    <tr>\n",
       "      <th>3</th>\n",
       "      <td>3</td>\n",
       "      <td>-4124.747207</td>\n",
       "      <td>32</td>\n",
       "      <td>среднее</td>\n",
       "      <td>1</td>\n",
       "      <td>женат / замужем</td>\n",
       "      <td>0</td>\n",
       "      <td>M</td>\n",
       "      <td>сотрудник</td>\n",
       "      <td>0</td>\n",
       "      <td>267628.550329</td>\n",
       "      <td>дополнительное образование</td>\n",
       "    </tr>\n",
       "    <tr>\n",
       "      <th>4</th>\n",
       "      <td>0</td>\n",
       "      <td>340266.072047</td>\n",
       "      <td>53</td>\n",
       "      <td>среднее</td>\n",
       "      <td>1</td>\n",
       "      <td>гражданский брак</td>\n",
       "      <td>1</td>\n",
       "      <td>F</td>\n",
       "      <td>пенсионер</td>\n",
       "      <td>0</td>\n",
       "      <td>158616.077870</td>\n",
       "      <td>сыграть свадьбу</td>\n",
       "    </tr>\n",
       "    <tr>\n",
       "      <th>5</th>\n",
       "      <td>0</td>\n",
       "      <td>-926.185831</td>\n",
       "      <td>27</td>\n",
       "      <td>высшее</td>\n",
       "      <td>0</td>\n",
       "      <td>гражданский брак</td>\n",
       "      <td>1</td>\n",
       "      <td>M</td>\n",
       "      <td>компаньон</td>\n",
       "      <td>0</td>\n",
       "      <td>255763.565419</td>\n",
       "      <td>покупка жилья</td>\n",
       "    </tr>\n",
       "    <tr>\n",
       "      <th>6</th>\n",
       "      <td>0</td>\n",
       "      <td>-2879.202052</td>\n",
       "      <td>43</td>\n",
       "      <td>высшее</td>\n",
       "      <td>0</td>\n",
       "      <td>женат / замужем</td>\n",
       "      <td>0</td>\n",
       "      <td>F</td>\n",
       "      <td>компаньон</td>\n",
       "      <td>0</td>\n",
       "      <td>240525.971920</td>\n",
       "      <td>операции с жильем</td>\n",
       "    </tr>\n",
       "    <tr>\n",
       "      <th>7</th>\n",
       "      <td>0</td>\n",
       "      <td>-152.779569</td>\n",
       "      <td>50</td>\n",
       "      <td>СРЕДНЕЕ</td>\n",
       "      <td>1</td>\n",
       "      <td>женат / замужем</td>\n",
       "      <td>0</td>\n",
       "      <td>M</td>\n",
       "      <td>сотрудник</td>\n",
       "      <td>0</td>\n",
       "      <td>135823.934197</td>\n",
       "      <td>образование</td>\n",
       "    </tr>\n",
       "    <tr>\n",
       "      <th>8</th>\n",
       "      <td>2</td>\n",
       "      <td>-6929.865299</td>\n",
       "      <td>35</td>\n",
       "      <td>ВЫСШЕЕ</td>\n",
       "      <td>0</td>\n",
       "      <td>гражданский брак</td>\n",
       "      <td>1</td>\n",
       "      <td>F</td>\n",
       "      <td>сотрудник</td>\n",
       "      <td>0</td>\n",
       "      <td>95856.832424</td>\n",
       "      <td>на проведение свадьбы</td>\n",
       "    </tr>\n",
       "    <tr>\n",
       "      <th>9</th>\n",
       "      <td>0</td>\n",
       "      <td>-2188.756445</td>\n",
       "      <td>41</td>\n",
       "      <td>среднее</td>\n",
       "      <td>1</td>\n",
       "      <td>женат / замужем</td>\n",
       "      <td>0</td>\n",
       "      <td>M</td>\n",
       "      <td>сотрудник</td>\n",
       "      <td>0</td>\n",
       "      <td>144425.938277</td>\n",
       "      <td>покупка жилья для семьи</td>\n",
       "    </tr>\n",
       "    <tr>\n",
       "      <th>10</th>\n",
       "      <td>2</td>\n",
       "      <td>-4171.483647</td>\n",
       "      <td>36</td>\n",
       "      <td>высшее</td>\n",
       "      <td>0</td>\n",
       "      <td>женат / замужем</td>\n",
       "      <td>0</td>\n",
       "      <td>M</td>\n",
       "      <td>компаньон</td>\n",
       "      <td>0</td>\n",
       "      <td>113943.491460</td>\n",
       "      <td>покупка недвижимости</td>\n",
       "    </tr>\n",
       "    <tr>\n",
       "      <th>11</th>\n",
       "      <td>0</td>\n",
       "      <td>-792.701887</td>\n",
       "      <td>40</td>\n",
       "      <td>среднее</td>\n",
       "      <td>1</td>\n",
       "      <td>женат / замужем</td>\n",
       "      <td>0</td>\n",
       "      <td>F</td>\n",
       "      <td>сотрудник</td>\n",
       "      <td>0</td>\n",
       "      <td>77069.234271</td>\n",
       "      <td>покупка коммерческой недвижимости</td>\n",
       "    </tr>\n",
       "    <tr>\n",
       "      <th>12</th>\n",
       "      <td>0</td>\n",
       "      <td>NaN</td>\n",
       "      <td>65</td>\n",
       "      <td>среднее</td>\n",
       "      <td>1</td>\n",
       "      <td>гражданский брак</td>\n",
       "      <td>1</td>\n",
       "      <td>M</td>\n",
       "      <td>пенсионер</td>\n",
       "      <td>0</td>\n",
       "      <td>NaN</td>\n",
       "      <td>сыграть свадьбу</td>\n",
       "    </tr>\n",
       "    <tr>\n",
       "      <th>13</th>\n",
       "      <td>0</td>\n",
       "      <td>-1846.641941</td>\n",
       "      <td>54</td>\n",
       "      <td>неоконченное высшее</td>\n",
       "      <td>2</td>\n",
       "      <td>женат / замужем</td>\n",
       "      <td>0</td>\n",
       "      <td>F</td>\n",
       "      <td>сотрудник</td>\n",
       "      <td>0</td>\n",
       "      <td>130458.228857</td>\n",
       "      <td>приобретение автомобиля</td>\n",
       "    </tr>\n",
       "    <tr>\n",
       "      <th>14</th>\n",
       "      <td>0</td>\n",
       "      <td>-1844.956182</td>\n",
       "      <td>56</td>\n",
       "      <td>высшее</td>\n",
       "      <td>0</td>\n",
       "      <td>гражданский брак</td>\n",
       "      <td>1</td>\n",
       "      <td>F</td>\n",
       "      <td>компаньон</td>\n",
       "      <td>1</td>\n",
       "      <td>165127.911772</td>\n",
       "      <td>покупка жилой недвижимости</td>\n",
       "    </tr>\n",
       "    <tr>\n",
       "      <th>15</th>\n",
       "      <td>1</td>\n",
       "      <td>-972.364419</td>\n",
       "      <td>26</td>\n",
       "      <td>среднее</td>\n",
       "      <td>1</td>\n",
       "      <td>женат / замужем</td>\n",
       "      <td>0</td>\n",
       "      <td>F</td>\n",
       "      <td>сотрудник</td>\n",
       "      <td>0</td>\n",
       "      <td>116820.904450</td>\n",
       "      <td>строительство собственной недвижимости</td>\n",
       "    </tr>\n",
       "    <tr>\n",
       "      <th>16</th>\n",
       "      <td>0</td>\n",
       "      <td>-1719.934226</td>\n",
       "      <td>35</td>\n",
       "      <td>среднее</td>\n",
       "      <td>1</td>\n",
       "      <td>женат / замужем</td>\n",
       "      <td>0</td>\n",
       "      <td>F</td>\n",
       "      <td>сотрудник</td>\n",
       "      <td>0</td>\n",
       "      <td>289202.704229</td>\n",
       "      <td>недвижимость</td>\n",
       "    </tr>\n",
       "    <tr>\n",
       "      <th>17</th>\n",
       "      <td>0</td>\n",
       "      <td>-2369.999720</td>\n",
       "      <td>33</td>\n",
       "      <td>высшее</td>\n",
       "      <td>0</td>\n",
       "      <td>гражданский брак</td>\n",
       "      <td>1</td>\n",
       "      <td>M</td>\n",
       "      <td>сотрудник</td>\n",
       "      <td>0</td>\n",
       "      <td>90410.586745</td>\n",
       "      <td>строительство недвижимости</td>\n",
       "    </tr>\n",
       "    <tr>\n",
       "      <th>18</th>\n",
       "      <td>0</td>\n",
       "      <td>400281.136913</td>\n",
       "      <td>53</td>\n",
       "      <td>среднее</td>\n",
       "      <td>1</td>\n",
       "      <td>вдовец / вдова</td>\n",
       "      <td>2</td>\n",
       "      <td>F</td>\n",
       "      <td>пенсионер</td>\n",
       "      <td>0</td>\n",
       "      <td>56823.777243</td>\n",
       "      <td>на покупку подержанного автомобиля</td>\n",
       "    </tr>\n",
       "    <tr>\n",
       "      <th>19</th>\n",
       "      <td>0</td>\n",
       "      <td>-10038.818549</td>\n",
       "      <td>48</td>\n",
       "      <td>СРЕДНЕЕ</td>\n",
       "      <td>1</td>\n",
       "      <td>в разводе</td>\n",
       "      <td>3</td>\n",
       "      <td>F</td>\n",
       "      <td>сотрудник</td>\n",
       "      <td>0</td>\n",
       "      <td>242831.107982</td>\n",
       "      <td>на покупку своего автомобиля</td>\n",
       "    </tr>\n",
       "  </tbody>\n",
       "</table>\n",
       "</div>"
      ],
      "text/plain": [
       "    children  days_employed  dob_years            education  education_id  \\\n",
       "0          1   -8437.673028         42               высшее             0   \n",
       "1          1   -4024.803754         36              среднее             1   \n",
       "2          0   -5623.422610         33              Среднее             1   \n",
       "3          3   -4124.747207         32              среднее             1   \n",
       "4          0  340266.072047         53              среднее             1   \n",
       "5          0    -926.185831         27               высшее             0   \n",
       "6          0   -2879.202052         43               высшее             0   \n",
       "7          0    -152.779569         50              СРЕДНЕЕ             1   \n",
       "8          2   -6929.865299         35               ВЫСШЕЕ             0   \n",
       "9          0   -2188.756445         41              среднее             1   \n",
       "10         2   -4171.483647         36               высшее             0   \n",
       "11         0    -792.701887         40              среднее             1   \n",
       "12         0            NaN         65              среднее             1   \n",
       "13         0   -1846.641941         54  неоконченное высшее             2   \n",
       "14         0   -1844.956182         56               высшее             0   \n",
       "15         1    -972.364419         26              среднее             1   \n",
       "16         0   -1719.934226         35              среднее             1   \n",
       "17         0   -2369.999720         33               высшее             0   \n",
       "18         0  400281.136913         53              среднее             1   \n",
       "19         0  -10038.818549         48              СРЕДНЕЕ             1   \n",
       "\n",
       "       family_status  family_status_id gender income_type  debt  \\\n",
       "0    женат / замужем                 0      F   сотрудник     0   \n",
       "1    женат / замужем                 0      F   сотрудник     0   \n",
       "2    женат / замужем                 0      M   сотрудник     0   \n",
       "3    женат / замужем                 0      M   сотрудник     0   \n",
       "4   гражданский брак                 1      F   пенсионер     0   \n",
       "5   гражданский брак                 1      M   компаньон     0   \n",
       "6    женат / замужем                 0      F   компаньон     0   \n",
       "7    женат / замужем                 0      M   сотрудник     0   \n",
       "8   гражданский брак                 1      F   сотрудник     0   \n",
       "9    женат / замужем                 0      M   сотрудник     0   \n",
       "10   женат / замужем                 0      M   компаньон     0   \n",
       "11   женат / замужем                 0      F   сотрудник     0   \n",
       "12  гражданский брак                 1      M   пенсионер     0   \n",
       "13   женат / замужем                 0      F   сотрудник     0   \n",
       "14  гражданский брак                 1      F   компаньон     1   \n",
       "15   женат / замужем                 0      F   сотрудник     0   \n",
       "16   женат / замужем                 0      F   сотрудник     0   \n",
       "17  гражданский брак                 1      M   сотрудник     0   \n",
       "18    вдовец / вдова                 2      F   пенсионер     0   \n",
       "19         в разводе                 3      F   сотрудник     0   \n",
       "\n",
       "     total_income                                 purpose  \n",
       "0   253875.639453                           покупка жилья  \n",
       "1   112080.014102                 приобретение автомобиля  \n",
       "2   145885.952297                           покупка жилья  \n",
       "3   267628.550329              дополнительное образование  \n",
       "4   158616.077870                         сыграть свадьбу  \n",
       "5   255763.565419                           покупка жилья  \n",
       "6   240525.971920                       операции с жильем  \n",
       "7   135823.934197                             образование  \n",
       "8    95856.832424                   на проведение свадьбы  \n",
       "9   144425.938277                 покупка жилья для семьи  \n",
       "10  113943.491460                    покупка недвижимости  \n",
       "11   77069.234271       покупка коммерческой недвижимости  \n",
       "12            NaN                         сыграть свадьбу  \n",
       "13  130458.228857                 приобретение автомобиля  \n",
       "14  165127.911772              покупка жилой недвижимости  \n",
       "15  116820.904450  строительство собственной недвижимости  \n",
       "16  289202.704229                            недвижимость  \n",
       "17   90410.586745              строительство недвижимости  \n",
       "18   56823.777243      на покупку подержанного автомобиля  \n",
       "19  242831.107982            на покупку своего автомобиля  "
      ]
     },
     "execution_count": 2,
     "metadata": {},
     "output_type": "execute_result"
    }
   ],
   "source": [
    "data.head(20)"
   ]
  },
  {
   "cell_type": "markdown",
   "id": "750b8d63",
   "metadata": {
    "deletable": false,
    "editable": false,
    "id": "1c12e233"
   },
   "source": [
    "**Задание 3. Выведите основную информацию о датафрейме с помощью метода `info()`.**"
   ]
  },
  {
   "cell_type": "code",
   "execution_count": 3,
   "id": "7c29f7f1",
   "metadata": {
    "deletable": false,
    "id": "2b757bca",
    "outputId": "15376089-8dad-46c9-b520-c05248d43158"
   },
   "outputs": [
    {
     "name": "stdout",
     "output_type": "stream",
     "text": [
      "<class 'pandas.core.frame.DataFrame'>\n",
      "RangeIndex: 21525 entries, 0 to 21524\n",
      "Data columns (total 12 columns):\n",
      " #   Column            Non-Null Count  Dtype  \n",
      "---  ------            --------------  -----  \n",
      " 0   children          21525 non-null  int64  \n",
      " 1   days_employed     19351 non-null  float64\n",
      " 2   dob_years         21525 non-null  int64  \n",
      " 3   education         21525 non-null  object \n",
      " 4   education_id      21525 non-null  int64  \n",
      " 5   family_status     21525 non-null  object \n",
      " 6   family_status_id  21525 non-null  int64  \n",
      " 7   gender            21525 non-null  object \n",
      " 8   income_type       21525 non-null  object \n",
      " 9   debt              21525 non-null  int64  \n",
      " 10  total_income      19351 non-null  float64\n",
      " 11  purpose           21525 non-null  object \n",
      "dtypes: float64(2), int64(5), object(5)\n",
      "memory usage: 2.0+ MB\n"
     ]
    }
   ],
   "source": [
    "data.info()"
   ]
  },
  {
   "cell_type": "markdown",
   "id": "add46e73",
   "metadata": {
    "deletable": false,
    "editable": false,
    "id": "333ec665"
   },
   "source": [
    "## Предобработка данных"
   ]
  },
  {
   "cell_type": "markdown",
   "id": "155ccc8b",
   "metadata": {
    "deletable": false,
    "editable": false,
    "id": "02d92d53"
   },
   "source": [
    "### Удаление пропусков"
   ]
  },
  {
   "cell_type": "markdown",
   "id": "809c6161",
   "metadata": {
    "deletable": false,
    "editable": false,
    "id": "cd84967c"
   },
   "source": [
    "**Задание 4. Выведите количество пропущенных значений для каждого столбца. Используйте комбинацию двух методов.**"
   ]
  },
  {
   "cell_type": "code",
   "execution_count": 4,
   "id": "734a1e41",
   "metadata": {
    "deletable": false,
    "id": "7f9b2309",
    "outputId": "81f4d817-781c-465c-ed15-91ce4446810d"
   },
   "outputs": [
    {
     "data": {
      "text/plain": [
       "children               0\n",
       "days_employed       2174\n",
       "dob_years              0\n",
       "education              0\n",
       "education_id           0\n",
       "family_status          0\n",
       "family_status_id       0\n",
       "gender                 0\n",
       "income_type            0\n",
       "debt                   0\n",
       "total_income        2174\n",
       "purpose                0\n",
       "dtype: int64"
      ]
     },
     "execution_count": 4,
     "metadata": {},
     "output_type": "execute_result"
    }
   ],
   "source": [
    "data.isna().sum()"
   ]
  },
  {
   "cell_type": "markdown",
   "id": "8e1929f7",
   "metadata": {
    "deletable": false,
    "editable": false,
    "id": "db86e27b"
   },
   "source": [
    "**Задание 5. В двух столбцах есть пропущенные значения. Один из них — `days_employed`. Пропуски в этом столбце вы обработаете на следующем этапе. Другой столбец с пропущенными значениями — `total_income` — хранит данные о доходах. На сумму дохода сильнее всего влияет тип занятости, поэтому заполнить пропуски в этом столбце нужно медианным значением по каждому типу из столбца `income_type`. Например, у человека с типом занятости `сотрудник` пропуск в столбце `total_income` должен быть заполнен медианным доходом среди всех записей с тем же типом.**"
   ]
  },
  {
   "cell_type": "code",
   "execution_count": 5,
   "id": "a360ef06",
   "metadata": {
    "deletable": false,
    "id": "42006a93"
   },
   "outputs": [],
   "source": [
    "for t in data['income_type'].unique():\n",
    "    data.loc[(data['income_type'] == t) & (data['total_income'].isna()), 'total_income'] = \\\n",
    "    data.loc[(data['income_type'] == t), 'total_income'].median()"
   ]
  },
  {
   "cell_type": "markdown",
   "id": "365776a2",
   "metadata": {
    "deletable": false,
    "editable": false,
    "id": "89da5ece"
   },
   "source": [
    "### Обработка аномальных значений"
   ]
  },
  {
   "cell_type": "markdown",
   "id": "49459fdd",
   "metadata": {
    "deletable": false,
    "editable": false,
    "id": "57964554"
   },
   "source": [
    "**Задание 6. В данных могут встречаться артефакты (аномалии) — значения, которые не отражают действительность и появились по какой-то ошибке. таким артефактом будет отрицательное количество дней трудового стажа в столбце `days_employed`. Для реальных данных это нормально. Обработайте значения в этом столбце: замените все отрицательные значения положительными с помощью метода `abs()`.**"
   ]
  },
  {
   "cell_type": "code",
   "execution_count": 6,
   "id": "508b40fd",
   "metadata": {
    "deletable": false,
    "id": "f6f055bf"
   },
   "outputs": [],
   "source": [
    "data['days_employed'] = data['days_employed'].abs()"
   ]
  },
  {
   "cell_type": "markdown",
   "id": "29907dee",
   "metadata": {
    "deletable": false,
    "editable": false,
    "id": "6107dd2f"
   },
   "source": [
    "**Задание 7. Для каждого типа занятости выведите медианное значение трудового стажа `days_employed` в днях.**"
   ]
  },
  {
   "cell_type": "code",
   "execution_count": 7,
   "id": "03ce6077",
   "metadata": {
    "deletable": false,
    "id": "85a5faf6",
    "outputId": "801ef80e-522b-4668-f34e-565af7432bcf"
   },
   "outputs": [
    {
     "data": {
      "text/plain": [
       "income_type\n",
       "безработный        366413.652744\n",
       "в декрете            3296.759962\n",
       "госслужащий          2689.368353\n",
       "компаньон            1547.382223\n",
       "пенсионер          365213.306266\n",
       "предприниматель       520.848083\n",
       "сотрудник            1574.202821\n",
       "студент               578.751554\n",
       "Name: days_employed, dtype: float64"
      ]
     },
     "execution_count": 7,
     "metadata": {},
     "output_type": "execute_result"
    }
   ],
   "source": [
    "data.groupby('income_type')['days_employed'].agg('median')"
   ]
  },
  {
   "cell_type": "markdown",
   "id": "702a9ba7",
   "metadata": {
    "deletable": false,
    "editable": false,
    "id": "38d1a030"
   },
   "source": [
    "У двух типов (безработные и пенсионеры) получатся аномально большие значения. Исправить такие значения сложно, поэтому оставьте их как есть. Тем более этот столбец не понадобится вам для исследования."
   ]
  },
  {
   "cell_type": "markdown",
   "id": "6f7d9cff",
   "metadata": {
    "deletable": false,
    "editable": false,
    "id": "d8a9f147"
   },
   "source": [
    "**Задание 8. Выведите перечень уникальных значений столбца `children`.**"
   ]
  },
  {
   "cell_type": "code",
   "execution_count": 8,
   "id": "2f986151",
   "metadata": {
    "deletable": false,
    "id": "ef5056eb",
    "outputId": "6975b15c-7f95-4697-d16d-a0c79b657b03"
   },
   "outputs": [
    {
     "data": {
      "text/plain": [
       "array([ 1,  0,  3,  2, -1,  4, 20,  5])"
      ]
     },
     "execution_count": 8,
     "metadata": {},
     "output_type": "execute_result"
    }
   ],
   "source": [
    "data['children'].unique()"
   ]
  },
  {
   "cell_type": "markdown",
   "id": "b5ae2363",
   "metadata": {
    "deletable": false,
    "editable": false,
    "id": "40b9ebf2"
   },
   "source": [
    "**Задание 9. В столбце `children` есть два аномальных значения. Удалите строки, в которых встречаются такие аномальные значения из датафрейма `data`.**"
   ]
  },
  {
   "cell_type": "code",
   "execution_count": 9,
   "id": "eac0b121",
   "metadata": {
    "deletable": false,
    "id": "3ff9801d"
   },
   "outputs": [],
   "source": [
    "data = data[(data['children'] != -1) & (data['children'] != 20)]"
   ]
  },
  {
   "cell_type": "markdown",
   "id": "1718042e",
   "metadata": {
    "deletable": false,
    "editable": false,
    "id": "bbc4d0ce"
   },
   "source": [
    "**Задание 10. Ещё раз выведите перечень уникальных значений столбца `children`, чтобы убедиться, что артефакты удалены.**"
   ]
  },
  {
   "cell_type": "code",
   "execution_count": 10,
   "id": "3e669421",
   "metadata": {
    "deletable": false,
    "id": "ad4fa8b7",
    "outputId": "b2097101-d49d-44d9-901b-32a65c9463d1"
   },
   "outputs": [
    {
     "data": {
      "text/plain": [
       "array([1, 0, 3, 2, 4, 5])"
      ]
     },
     "execution_count": 10,
     "metadata": {},
     "output_type": "execute_result"
    }
   ],
   "source": [
    "data['children'].unique()"
   ]
  },
  {
   "cell_type": "markdown",
   "id": "1faa498b",
   "metadata": {
    "deletable": false,
    "editable": false,
    "id": "75440b63"
   },
   "source": [
    "### Удаление пропусков (продолжение)"
   ]
  },
  {
   "cell_type": "markdown",
   "id": "07880dc7",
   "metadata": {
    "deletable": false,
    "editable": false,
    "id": "f4ea573f"
   },
   "source": [
    "**Задание 11. Заполните пропуски в столбце `days_employed` медианными значениями по каждого типа занятости `income_type`.**"
   ]
  },
  {
   "cell_type": "code",
   "execution_count": 11,
   "id": "255a12e3",
   "metadata": {
    "deletable": false,
    "id": "af6b1a7e"
   },
   "outputs": [],
   "source": [
    "for t in data['income_type'].unique():\n",
    "    data.loc[(data['income_type'] == t) & (data['days_employed'].isna()), 'days_employed'] = \\\n",
    "    data.loc[(data['income_type'] == t), 'days_employed'].median()"
   ]
  },
  {
   "cell_type": "markdown",
   "id": "65c9c114",
   "metadata": {
    "deletable": false,
    "editable": false,
    "id": "2753f40d"
   },
   "source": [
    "**Задание 12. Убедитесь, что все пропуски заполнены. Проверьте себя и ещё раз выведите количество пропущенных значений для каждого столбца с помощью двух методов.**"
   ]
  },
  {
   "cell_type": "code",
   "execution_count": 12,
   "id": "a1da09e6",
   "metadata": {
    "deletable": false,
    "id": "55f78bc2",
    "outputId": "8da1e4e1-358e-4e87-98c9-f261bce0a7b2"
   },
   "outputs": [
    {
     "data": {
      "text/plain": [
       "children            0\n",
       "days_employed       0\n",
       "dob_years           0\n",
       "education           0\n",
       "education_id        0\n",
       "family_status       0\n",
       "family_status_id    0\n",
       "gender              0\n",
       "income_type         0\n",
       "debt                0\n",
       "total_income        0\n",
       "purpose             0\n",
       "dtype: int64"
      ]
     },
     "execution_count": 12,
     "metadata": {},
     "output_type": "execute_result"
    }
   ],
   "source": [
    "data.isna().sum()"
   ]
  },
  {
   "cell_type": "markdown",
   "id": "d5dc4a15",
   "metadata": {
    "deletable": false,
    "editable": false,
    "id": "ddc81e43"
   },
   "source": [
    "### Изменение типов данных"
   ]
  },
  {
   "cell_type": "markdown",
   "id": "2eee1ffa",
   "metadata": {
    "deletable": false,
    "editable": false,
    "id": "42d19d24"
   },
   "source": [
    "**Задание 13. Замените вещественный тип данных в столбце `total_income` на целочисленный с помощью метода `astype()`.**"
   ]
  },
  {
   "cell_type": "code",
   "execution_count": 13,
   "id": "127ccfb3",
   "metadata": {
    "deletable": false,
    "id": "920b65ad"
   },
   "outputs": [],
   "source": [
    "data['total_income'] = data['total_income'].astype(int)"
   ]
  },
  {
   "cell_type": "markdown",
   "id": "11811278",
   "metadata": {
    "deletable": false,
    "editable": false,
    "id": "80c420ba"
   },
   "source": [
    "### Обработка дубликатов"
   ]
  },
  {
   "cell_type": "markdown",
   "id": "9cc51d83",
   "metadata": {
    "deletable": false,
    "editable": false
   },
   "source": [
    "**Задание 14. Обработайте неявные дубликаты в столбце `education`. В этом столбце есть одни и те же значения, но записанные по-разному: с использованием заглавных и строчных букв. Приведите их к нижнему регистру. Проверьте остальные столбцы.**"
   ]
  },
  {
   "cell_type": "code",
   "execution_count": 14,
   "id": "7a4ca967",
   "metadata": {
    "deletable": false
   },
   "outputs": [],
   "source": [
    "data['education'] = data['education'].str.lower()"
   ]
  },
  {
   "cell_type": "markdown",
   "id": "ec29089a",
   "metadata": {
    "deletable": false,
    "editable": false,
    "id": "dc587695"
   },
   "source": [
    "**Задание 15. Выведите на экран количество строк-дубликатов в данных. Если такие строки присутствуют, удалите их.**"
   ]
  },
  {
   "cell_type": "code",
   "execution_count": 15,
   "id": "630ba453",
   "metadata": {
    "deletable": false,
    "id": "3ee445e4",
    "outputId": "9684deba-1934-42d1-99e1-cda61740f822"
   },
   "outputs": [
    {
     "data": {
      "text/plain": [
       "71"
      ]
     },
     "execution_count": 15,
     "metadata": {},
     "output_type": "execute_result"
    }
   ],
   "source": [
    "data.duplicated().sum()"
   ]
  },
  {
   "cell_type": "code",
   "execution_count": 16,
   "id": "b68c0829",
   "metadata": {
    "deletable": false,
    "id": "8575fe05"
   },
   "outputs": [],
   "source": [
    "data = data.drop_duplicates()"
   ]
  },
  {
   "cell_type": "markdown",
   "id": "31f1c1b3",
   "metadata": {
    "deletable": false,
    "editable": false,
    "id": "9904cf55"
   },
   "source": [
    "### Категоризация данных"
   ]
  },
  {
   "cell_type": "markdown",
   "id": "84d52344",
   "metadata": {
    "deletable": false,
    "editable": false,
    "id": "72fcc8a2"
   },
   "source": [
    "**Задание 16. На основании диапазонов, указанных ниже, создайте в датафрейме `data` столбец `total_income_category` с категориями:**\n",
    "\n",
    "- 0–30000 — `'E'`;\n",
    "- 30001–50000 — `'D'`;\n",
    "- 50001–200000 — `'C'`;\n",
    "- 200001–1000000 — `'B'`;\n",
    "- 1000001 и выше — `'A'`.\n",
    "\n",
    "\n",
    "**Например, кредитополучателю с доходом 25000 нужно назначить категорию `'E'`, а клиенту, получающему 235000, — `'B'`. Используйте собственную функцию с именем `categorize_income()` и метод `apply()`.**"
   ]
  },
  {
   "cell_type": "code",
   "execution_count": 17,
   "id": "f09f52e1",
   "metadata": {
    "deletable": false,
    "id": "e1771346"
   },
   "outputs": [],
   "source": [
    "def categorize_income(income):\n",
    "    try:\n",
    "        if 0 <= income <= 30000:\n",
    "            return 'E'\n",
    "        elif 30001 <= income <= 50000:\n",
    "            return 'D'\n",
    "        elif 50001 <= income <= 200000:\n",
    "            return 'C'\n",
    "        elif 200001 <= income <= 1000000:\n",
    "            return 'B'\n",
    "        elif income >= 1000001:\n",
    "            return 'A'\n",
    "    except:\n",
    "        pass"
   ]
  },
  {
   "cell_type": "code",
   "execution_count": 18,
   "id": "b63ce43b",
   "metadata": {
    "deletable": false,
    "id": "d5f3586d"
   },
   "outputs": [],
   "source": [
    "data['total_income_category'] = data['total_income'].apply(categorize_income)"
   ]
  },
  {
   "cell_type": "markdown",
   "id": "f6ce97c5",
   "metadata": {
    "deletable": false,
    "editable": false,
    "id": "dde49b5c"
   },
   "source": [
    "**Задание 17. Выведите на экран перечень уникальных целей взятия кредита из столбца `purpose`.**"
   ]
  },
  {
   "cell_type": "code",
   "execution_count": 19,
   "id": "3699af8d",
   "metadata": {
    "deletable": false,
    "id": "f67ce9b3",
    "outputId": "673c12d9-7d7e-4ae0-9812-c622c89dd244"
   },
   "outputs": [
    {
     "data": {
      "text/plain": [
       "array(['покупка жилья', 'приобретение автомобиля',\n",
       "       'дополнительное образование', 'сыграть свадьбу',\n",
       "       'операции с жильем', 'образование', 'на проведение свадьбы',\n",
       "       'покупка жилья для семьи', 'покупка недвижимости',\n",
       "       'покупка коммерческой недвижимости', 'покупка жилой недвижимости',\n",
       "       'строительство собственной недвижимости', 'недвижимость',\n",
       "       'строительство недвижимости', 'на покупку подержанного автомобиля',\n",
       "       'на покупку своего автомобиля',\n",
       "       'операции с коммерческой недвижимостью',\n",
       "       'строительство жилой недвижимости', 'жилье',\n",
       "       'операции со своей недвижимостью', 'автомобили',\n",
       "       'заняться образованием', 'сделка с подержанным автомобилем',\n",
       "       'получение образования', 'автомобиль', 'свадьба',\n",
       "       'получение дополнительного образования', 'покупка своего жилья',\n",
       "       'операции с недвижимостью', 'получение высшего образования',\n",
       "       'свой автомобиль', 'сделка с автомобилем',\n",
       "       'профильное образование', 'высшее образование',\n",
       "       'покупка жилья для сдачи', 'на покупку автомобиля', 'ремонт жилью',\n",
       "       'заняться высшим образованием'], dtype=object)"
      ]
     },
     "execution_count": 19,
     "metadata": {},
     "output_type": "execute_result"
    }
   ],
   "source": [
    "data['purpose'].unique()"
   ]
  },
  {
   "cell_type": "markdown",
   "id": "3f9b4a56",
   "metadata": {
    "deletable": false,
    "editable": false,
    "id": "85d0aef0"
   },
   "source": [
    "**Задание 18. Создайте функцию, которая на основании данных из столбца `purpose` сформирует новый столбец `purpose_category`, в который войдут следующие категории:**\n",
    "\n",
    "- `'операции с автомобилем'`,\n",
    "- `'операции с недвижимостью'`,\n",
    "- `'проведение свадьбы'`,\n",
    "- `'получение образования'`.\n",
    "\n",
    "**Например, если в столбце `purpose` находится подстрока `'на покупку автомобиля'`, то в столбце `purpose_category` должна появиться строка `'операции с автомобилем'`.**\n",
    "\n",
    "**Используйте собственную функцию с именем `categorize_purpose()` и метод `apply()`. Изучите данные в столбце `purpose` и определите, какие подстроки помогут вам правильно определить категорию.**"
   ]
  },
  {
   "cell_type": "code",
   "execution_count": 20,
   "id": "9a8486aa",
   "metadata": {
    "deletable": false,
    "id": "e149fab4"
   },
   "outputs": [],
   "source": [
    "def categorize_purpose(row):\n",
    "    try:\n",
    "        if 'автом' in row:\n",
    "            return 'операции с автомобилем'\n",
    "        elif 'жил' in row or 'недвиж' in row:\n",
    "            return 'операции с недвижимостью'\n",
    "        elif 'свад' in row:\n",
    "            return 'проведение свадьбы'\n",
    "        elif 'образов' in row:\n",
    "            return 'получение образования'\n",
    "    except:\n",
    "        return 'нет категории'"
   ]
  },
  {
   "cell_type": "code",
   "execution_count": 21,
   "id": "b1ae0f5b",
   "metadata": {
    "deletable": false,
    "id": "bf36e69b"
   },
   "outputs": [],
   "source": [
    "data['purpose_category'] = data['purpose'].apply(categorize_purpose)"
   ]
  },
  {
   "cell_type": "markdown",
   "id": "742d5a84",
   "metadata": {
    "deletable": false,
    "editable": false,
    "id": "09b242bf"
   },
   "source": [
    "### Шаг 3. Исследуйте данные и ответьте на вопросы"
   ]
  },
  {
   "cell_type": "code",
   "execution_count": 22,
   "id": "10890647",
   "metadata": {},
   "outputs": [],
   "source": [
    "#для анализа данных, я создам функцию, которая построит таблицу и в дальнейшем буду её использовать\n",
    "def factor(row,parametr):\n",
    "    data = row.groupby(parametr).agg({'debt':'sum'})\n",
    "    data['count'] = row.groupby(parametr)['debt'].count()\n",
    "    data['factor'] = data['debt'] / data['count'] * 100\n",
    "    return data"
   ]
  },
  {
   "cell_type": "markdown",
   "id": "e2e3e58b",
   "metadata": {
    "deletable": false,
    "editable": false,
    "id": "c5d66278"
   },
   "source": [
    "#### 3.1 Есть ли зависимость между количеством детей и возвратом кредита в срок?"
   ]
  },
  {
   "cell_type": "code",
   "execution_count": 23,
   "id": "37be056e",
   "metadata": {
    "deletable": false,
    "id": "2cacfc4a"
   },
   "outputs": [
    {
     "data": {
      "text/html": [
       "<div>\n",
       "<style scoped>\n",
       "    .dataframe tbody tr th:only-of-type {\n",
       "        vertical-align: middle;\n",
       "    }\n",
       "\n",
       "    .dataframe tbody tr th {\n",
       "        vertical-align: top;\n",
       "    }\n",
       "\n",
       "    .dataframe thead th {\n",
       "        text-align: right;\n",
       "    }\n",
       "</style>\n",
       "<table border=\"1\" class=\"dataframe\">\n",
       "  <thead>\n",
       "    <tr style=\"text-align: right;\">\n",
       "      <th></th>\n",
       "      <th>debt</th>\n",
       "      <th>count</th>\n",
       "      <th>factor</th>\n",
       "    </tr>\n",
       "    <tr>\n",
       "      <th>children</th>\n",
       "      <th></th>\n",
       "      <th></th>\n",
       "      <th></th>\n",
       "    </tr>\n",
       "  </thead>\n",
       "  <tbody>\n",
       "    <tr>\n",
       "      <th>5</th>\n",
       "      <td>0</td>\n",
       "      <td>9</td>\n",
       "      <td>0.000000</td>\n",
       "    </tr>\n",
       "    <tr>\n",
       "      <th>0</th>\n",
       "      <td>1063</td>\n",
       "      <td>14091</td>\n",
       "      <td>7.543822</td>\n",
       "    </tr>\n",
       "    <tr>\n",
       "      <th>3</th>\n",
       "      <td>27</td>\n",
       "      <td>330</td>\n",
       "      <td>8.181818</td>\n",
       "    </tr>\n",
       "    <tr>\n",
       "      <th>1</th>\n",
       "      <td>444</td>\n",
       "      <td>4808</td>\n",
       "      <td>9.234609</td>\n",
       "    </tr>\n",
       "    <tr>\n",
       "      <th>2</th>\n",
       "      <td>194</td>\n",
       "      <td>2052</td>\n",
       "      <td>9.454191</td>\n",
       "    </tr>\n",
       "    <tr>\n",
       "      <th>4</th>\n",
       "      <td>4</td>\n",
       "      <td>41</td>\n",
       "      <td>9.756098</td>\n",
       "    </tr>\n",
       "  </tbody>\n",
       "</table>\n",
       "</div>"
      ],
      "text/plain": [
       "          debt  count    factor\n",
       "children                       \n",
       "5            0      9  0.000000\n",
       "0         1063  14091  7.543822\n",
       "3           27    330  8.181818\n",
       "1          444   4808  9.234609\n",
       "2          194   2052  9.454191\n",
       "4            4     41  9.756098"
      ]
     },
     "execution_count": 23,
     "metadata": {},
     "output_type": "execute_result"
    }
   ],
   "source": [
    "data_children = factor(data,'children')\n",
    "data_children.sort_values(by='factor',ascending=True)  \n",
    "#Ваш код будет здесь. Вы можете создавать новые ячейки"
   ]
  },
  {
   "cell_type": "code",
   "execution_count": 24,
   "id": "d7700c0f",
   "metadata": {},
   "outputs": [
    {
     "data": {
      "text/html": [
       "<div>\n",
       "<style scoped>\n",
       "    .dataframe tbody tr th:only-of-type {\n",
       "        vertical-align: middle;\n",
       "    }\n",
       "\n",
       "    .dataframe tbody tr th {\n",
       "        vertical-align: top;\n",
       "    }\n",
       "\n",
       "    .dataframe thead th {\n",
       "        text-align: right;\n",
       "    }\n",
       "</style>\n",
       "<table border=\"1\" class=\"dataframe\">\n",
       "  <thead>\n",
       "    <tr style=\"text-align: right;\">\n",
       "      <th></th>\n",
       "      <th>debt</th>\n",
       "      <th>count</th>\n",
       "      <th>factor</th>\n",
       "    </tr>\n",
       "    <tr>\n",
       "      <th>children</th>\n",
       "      <th></th>\n",
       "      <th></th>\n",
       "      <th></th>\n",
       "    </tr>\n",
       "  </thead>\n",
       "  <tbody>\n",
       "    <tr>\n",
       "      <th>0</th>\n",
       "      <td>1063</td>\n",
       "      <td>14091</td>\n",
       "      <td>7.543822</td>\n",
       "    </tr>\n",
       "    <tr>\n",
       "      <th>3</th>\n",
       "      <td>27</td>\n",
       "      <td>330</td>\n",
       "      <td>8.181818</td>\n",
       "    </tr>\n",
       "    <tr>\n",
       "      <th>1</th>\n",
       "      <td>444</td>\n",
       "      <td>4808</td>\n",
       "      <td>9.234609</td>\n",
       "    </tr>\n",
       "    <tr>\n",
       "      <th>2</th>\n",
       "      <td>194</td>\n",
       "      <td>2052</td>\n",
       "      <td>9.454191</td>\n",
       "    </tr>\n",
       "  </tbody>\n",
       "</table>\n",
       "</div>"
      ],
      "text/plain": [
       "          debt  count    factor\n",
       "children                       \n",
       "0         1063  14091  7.543822\n",
       "3           27    330  8.181818\n",
       "1          444   4808  9.234609\n",
       "2          194   2052  9.454191"
      ]
     },
     "execution_count": 24,
     "metadata": {},
     "output_type": "execute_result"
    }
   ],
   "source": [
    "data_children.loc[data_children['count'] > 100].sort_values(by='factor',ascending=True)"
   ]
  },
  {
   "cell_type": "markdown",
   "id": "d2fd01dc",
   "metadata": {
    "deletable": false,
    "id": "3a6b99ec"
   },
   "source": [
    "**Вывод:** из таблицы видно, что клиенты у которых нет детей в наибольшей степени выплачивают кредиты своевременно\n",
    "\n",
    "**** убрала из таблицы строки в данными, которые мало влияют на общий вывод"
   ]
  },
  {
   "cell_type": "markdown",
   "id": "d16c93ec",
   "metadata": {
    "deletable": false,
    "editable": false,
    "id": "97be82ca"
   },
   "source": [
    "#### 3.2 Есть ли зависимость между семейным положением и возвратом кредита в срок?"
   ]
  },
  {
   "cell_type": "code",
   "execution_count": 25,
   "id": "a198b819",
   "metadata": {
    "deletable": false,
    "id": "dc3f7ee8"
   },
   "outputs": [
    {
     "data": {
      "text/html": [
       "<div>\n",
       "<style scoped>\n",
       "    .dataframe tbody tr th:only-of-type {\n",
       "        vertical-align: middle;\n",
       "    }\n",
       "\n",
       "    .dataframe tbody tr th {\n",
       "        vertical-align: top;\n",
       "    }\n",
       "\n",
       "    .dataframe thead th {\n",
       "        text-align: right;\n",
       "    }\n",
       "</style>\n",
       "<table border=\"1\" class=\"dataframe\">\n",
       "  <thead>\n",
       "    <tr style=\"text-align: right;\">\n",
       "      <th></th>\n",
       "      <th>debt</th>\n",
       "      <th>count</th>\n",
       "      <th>factor</th>\n",
       "    </tr>\n",
       "    <tr>\n",
       "      <th>family_status</th>\n",
       "      <th></th>\n",
       "      <th></th>\n",
       "      <th></th>\n",
       "    </tr>\n",
       "  </thead>\n",
       "  <tbody>\n",
       "    <tr>\n",
       "      <th>вдовец / вдова</th>\n",
       "      <td>63</td>\n",
       "      <td>951</td>\n",
       "      <td>6.624606</td>\n",
       "    </tr>\n",
       "    <tr>\n",
       "      <th>в разводе</th>\n",
       "      <td>84</td>\n",
       "      <td>1189</td>\n",
       "      <td>7.064760</td>\n",
       "    </tr>\n",
       "    <tr>\n",
       "      <th>женат / замужем</th>\n",
       "      <td>927</td>\n",
       "      <td>12261</td>\n",
       "      <td>7.560558</td>\n",
       "    </tr>\n",
       "    <tr>\n",
       "      <th>гражданский брак</th>\n",
       "      <td>385</td>\n",
       "      <td>4134</td>\n",
       "      <td>9.313014</td>\n",
       "    </tr>\n",
       "    <tr>\n",
       "      <th>Не женат / не замужем</th>\n",
       "      <td>273</td>\n",
       "      <td>2796</td>\n",
       "      <td>9.763948</td>\n",
       "    </tr>\n",
       "  </tbody>\n",
       "</table>\n",
       "</div>"
      ],
      "text/plain": [
       "                       debt  count    factor\n",
       "family_status                               \n",
       "вдовец / вдова           63    951  6.624606\n",
       "в разводе                84   1189  7.064760\n",
       "женат / замужем         927  12261  7.560558\n",
       "гражданский брак        385   4134  9.313014\n",
       "Не женат / не замужем   273   2796  9.763948"
      ]
     },
     "execution_count": 25,
     "metadata": {},
     "output_type": "execute_result"
    }
   ],
   "source": [
    "data_family = factor(data,'family_status')\n",
    "data_family.sort_values(by='factor',ascending=True) "
   ]
  },
  {
   "cell_type": "markdown",
   "id": "df7c34cb",
   "metadata": {
    "deletable": false,
    "id": "1cef7837"
   },
   "source": [
    "**Вывод:** по результатам таблицы можно сказать, что люди находящиеся в отношениях более ответственны "
   ]
  },
  {
   "cell_type": "markdown",
   "id": "c334b956",
   "metadata": {
    "deletable": false,
    "editable": false,
    "id": "1e8b2fca"
   },
   "source": [
    "#### 3.3 Есть ли зависимость между уровнем дохода и возвратом кредита в срок?"
   ]
  },
  {
   "cell_type": "markdown",
   "id": "ebcb19c3",
   "metadata": {
    "deletable": false,
    "id": "cd7e3720"
   },
   "source": []
  },
  {
   "cell_type": "code",
   "execution_count": 26,
   "id": "5b824542",
   "metadata": {},
   "outputs": [
    {
     "data": {
      "text/html": [
       "<div>\n",
       "<style scoped>\n",
       "    .dataframe tbody tr th:only-of-type {\n",
       "        vertical-align: middle;\n",
       "    }\n",
       "\n",
       "    .dataframe tbody tr th {\n",
       "        vertical-align: top;\n",
       "    }\n",
       "\n",
       "    .dataframe thead th {\n",
       "        text-align: right;\n",
       "    }\n",
       "</style>\n",
       "<table border=\"1\" class=\"dataframe\">\n",
       "  <thead>\n",
       "    <tr style=\"text-align: right;\">\n",
       "      <th></th>\n",
       "      <th>debt</th>\n",
       "      <th>count</th>\n",
       "      <th>factor</th>\n",
       "    </tr>\n",
       "    <tr>\n",
       "      <th>total_income_category</th>\n",
       "      <th></th>\n",
       "      <th></th>\n",
       "      <th></th>\n",
       "    </tr>\n",
       "  </thead>\n",
       "  <tbody>\n",
       "    <tr>\n",
       "      <th>D</th>\n",
       "      <td>21</td>\n",
       "      <td>349</td>\n",
       "      <td>6.017192</td>\n",
       "    </tr>\n",
       "    <tr>\n",
       "      <th>B</th>\n",
       "      <td>354</td>\n",
       "      <td>5014</td>\n",
       "      <td>7.060231</td>\n",
       "    </tr>\n",
       "    <tr>\n",
       "      <th>A</th>\n",
       "      <td>2</td>\n",
       "      <td>25</td>\n",
       "      <td>8.000000</td>\n",
       "    </tr>\n",
       "    <tr>\n",
       "      <th>C</th>\n",
       "      <td>1353</td>\n",
       "      <td>15921</td>\n",
       "      <td>8.498210</td>\n",
       "    </tr>\n",
       "    <tr>\n",
       "      <th>E</th>\n",
       "      <td>2</td>\n",
       "      <td>22</td>\n",
       "      <td>9.090909</td>\n",
       "    </tr>\n",
       "  </tbody>\n",
       "</table>\n",
       "</div>"
      ],
      "text/plain": [
       "                       debt  count    factor\n",
       "total_income_category                       \n",
       "D                        21    349  6.017192\n",
       "B                       354   5014  7.060231\n",
       "A                         2     25  8.000000\n",
       "C                      1353  15921  8.498210\n",
       "E                         2     22  9.090909"
      ]
     },
     "execution_count": 26,
     "metadata": {},
     "output_type": "execute_result"
    }
   ],
   "source": [
    "data_income = factor(data,'total_income_category')\n",
    "data_income.sort_values(by='factor',ascending=True)"
   ]
  },
  {
   "cell_type": "code",
   "execution_count": 27,
   "id": "44be85e7",
   "metadata": {},
   "outputs": [
    {
     "data": {
      "text/html": [
       "<div>\n",
       "<style scoped>\n",
       "    .dataframe tbody tr th:only-of-type {\n",
       "        vertical-align: middle;\n",
       "    }\n",
       "\n",
       "    .dataframe tbody tr th {\n",
       "        vertical-align: top;\n",
       "    }\n",
       "\n",
       "    .dataframe thead th {\n",
       "        text-align: right;\n",
       "    }\n",
       "</style>\n",
       "<table border=\"1\" class=\"dataframe\">\n",
       "  <thead>\n",
       "    <tr style=\"text-align: right;\">\n",
       "      <th></th>\n",
       "      <th>debt</th>\n",
       "      <th>count</th>\n",
       "      <th>factor</th>\n",
       "    </tr>\n",
       "    <tr>\n",
       "      <th>total_income_category</th>\n",
       "      <th></th>\n",
       "      <th></th>\n",
       "      <th></th>\n",
       "    </tr>\n",
       "  </thead>\n",
       "  <tbody>\n",
       "    <tr>\n",
       "      <th>D</th>\n",
       "      <td>21</td>\n",
       "      <td>349</td>\n",
       "      <td>6.017192</td>\n",
       "    </tr>\n",
       "    <tr>\n",
       "      <th>B</th>\n",
       "      <td>354</td>\n",
       "      <td>5014</td>\n",
       "      <td>7.060231</td>\n",
       "    </tr>\n",
       "    <tr>\n",
       "      <th>C</th>\n",
       "      <td>1353</td>\n",
       "      <td>15921</td>\n",
       "      <td>8.498210</td>\n",
       "    </tr>\n",
       "  </tbody>\n",
       "</table>\n",
       "</div>"
      ],
      "text/plain": [
       "                       debt  count    factor\n",
       "total_income_category                       \n",
       "D                        21    349  6.017192\n",
       "B                       354   5014  7.060231\n",
       "C                      1353  15921  8.498210"
      ]
     },
     "execution_count": 27,
     "metadata": {},
     "output_type": "execute_result"
    }
   ],
   "source": [
    "data_income.loc[data_income['count'] > 100].sort_values(by='factor',ascending=True)"
   ]
  },
  {
   "cell_type": "markdown",
   "id": "fcc27b8a",
   "metadata": {
    "deletable": false,
    "id": "e8593def"
   },
   "source": [
    "**Вывод:** применила логическую индексацию по тому же типу, что и к предыдущему заданию и выяснила, что наиболее дисциплинированными заемщиками являются клиенты из категории D"
   ]
  },
  {
   "cell_type": "markdown",
   "id": "77ef5c41",
   "metadata": {
    "deletable": false,
    "editable": false,
    "id": "99ecbd1f"
   },
   "source": [
    "#### 3.4 Как разные цели кредита влияют на его возврат в срок?"
   ]
  },
  {
   "cell_type": "markdown",
   "id": "ae08ff23",
   "metadata": {
    "deletable": false,
    "id": "2b687290"
   },
   "source": []
  },
  {
   "cell_type": "code",
   "execution_count": 28,
   "id": "b568aa8c",
   "metadata": {},
   "outputs": [
    {
     "data": {
      "text/html": [
       "<div>\n",
       "<style scoped>\n",
       "    .dataframe tbody tr th:only-of-type {\n",
       "        vertical-align: middle;\n",
       "    }\n",
       "\n",
       "    .dataframe tbody tr th {\n",
       "        vertical-align: top;\n",
       "    }\n",
       "\n",
       "    .dataframe thead th {\n",
       "        text-align: right;\n",
       "    }\n",
       "</style>\n",
       "<table border=\"1\" class=\"dataframe\">\n",
       "  <thead>\n",
       "    <tr style=\"text-align: right;\">\n",
       "      <th></th>\n",
       "      <th>debt</th>\n",
       "      <th>count</th>\n",
       "      <th>factor</th>\n",
       "    </tr>\n",
       "    <tr>\n",
       "      <th>purpose_category</th>\n",
       "      <th></th>\n",
       "      <th></th>\n",
       "      <th></th>\n",
       "    </tr>\n",
       "  </thead>\n",
       "  <tbody>\n",
       "    <tr>\n",
       "      <th>операции с недвижимостью</th>\n",
       "      <td>780</td>\n",
       "      <td>10751</td>\n",
       "      <td>7.255139</td>\n",
       "    </tr>\n",
       "    <tr>\n",
       "      <th>проведение свадьбы</th>\n",
       "      <td>183</td>\n",
       "      <td>2313</td>\n",
       "      <td>7.911803</td>\n",
       "    </tr>\n",
       "    <tr>\n",
       "      <th>получение образования</th>\n",
       "      <td>369</td>\n",
       "      <td>3988</td>\n",
       "      <td>9.252758</td>\n",
       "    </tr>\n",
       "    <tr>\n",
       "      <th>операции с автомобилем</th>\n",
       "      <td>400</td>\n",
       "      <td>4279</td>\n",
       "      <td>9.347978</td>\n",
       "    </tr>\n",
       "  </tbody>\n",
       "</table>\n",
       "</div>"
      ],
      "text/plain": [
       "                          debt  count    factor\n",
       "purpose_category                               \n",
       "операции с недвижимостью   780  10751  7.255139\n",
       "проведение свадьбы         183   2313  7.911803\n",
       "получение образования      369   3988  9.252758\n",
       "операции с автомобилем     400   4279  9.347978"
      ]
     },
     "execution_count": 28,
     "metadata": {},
     "output_type": "execute_result"
    }
   ],
   "source": [
    "data_purpose = factor(data,'purpose_category')\n",
    "data_purpose.sort_values(by='factor',ascending=True)"
   ]
  },
  {
   "cell_type": "markdown",
   "id": "2d0111a2",
   "metadata": {
    "deletable": false,
    "id": "b4bb2ce6"
   },
   "source": [
    "**Вывод:**  я имела ввиду: срок возврата кредита не зависит от цели, и каждая цель является релевантной для скорбалла"
   ]
  },
  {
   "cell_type": "markdown",
   "id": "a992f69b",
   "metadata": {
    "deletable": false,
    "editable": false,
    "id": "09c3ac4c"
   },
   "source": [
    "#### 3.5 Приведите возможные причины появления пропусков в исходных данных."
   ]
  },
  {
   "cell_type": "markdown",
   "id": "be64e5d6",
   "metadata": {
    "deletable": false,
    "id": "9da2ceda"
   },
   "source": [
    "*Ответ:*  причины пропуска непонятны - это мог быть как технологический фактор, так и человеческий"
   ]
  },
  {
   "cell_type": "markdown",
   "id": "0974aadb",
   "metadata": {
    "deletable": false,
    "editable": false,
    "id": "7b0487d6"
   },
   "source": [
    "#### 3.6 Объясните, почему заполнить пропуски медианным значением — лучшее решение для количественных переменных."
   ]
  },
  {
   "cell_type": "markdown",
   "id": "d30a3f3d",
   "metadata": {
    "deletable": false,
    "id": "7ecf2b8e"
   },
   "source": [
    "*Ответ:*  Если у нескольких клиентов будут максимально высокие или минимальные значения, лучше применить медианный метод решения, так как он будет являтся наиболее оптимальным. Так как при применение по средней, решение может искажаться либо в меньшую, либо в большую сторону"
   ]
  },
  {
   "cell_type": "markdown",
   "id": "2e8e7c64",
   "metadata": {
    "deletable": false,
    "editable": false,
    "id": "6db5255a"
   },
   "source": [
    "### Шаг 4: общий вывод."
   ]
  },
  {
   "cell_type": "markdown",
   "id": "00e19996",
   "metadata": {
    "deletable": false,
    "id": "bad65432"
   },
   "source": [
    "В рамках исследования были проверены и выявлены следующие гипотезы.\n",
    "\n",
    "Есть ли зависимость между количеством детей и возвратом кредита в срок?\n",
    "В рамках исследования мне не удалось оценить группы клиентов с 4 и 5 детьми, так как выборка оказалась слишком мала\n",
    "Категория клиентов без детей оказалась самой большой и процент задержек по кредиту самый низкий. Самый высокий процент задержек по оплатам оказался у клиентов с двумя детьми.\n",
    "\n",
    "Есть ли зависимость между семейным положением и возвратом кредита в срок?\n",
    "По результатам проверки выявлено следующее - меньше всего просрочек по кредитам у вдов/вдовцев, больше всего у клиентов, не состоящих в отношениях. Самой большой категорией являются клиенты в браке.\n",
    "\n",
    "Есть ли зависимость между уровнем дохода и возвратом кредита в срок?\n",
    "По результатам проверки можнос сказать, что меньше всего просрочек по кредитам у клиентов с уровнем дохода от 30 000 до 50 000 руб., а больше всего у клиентов с уровнем дохода от 200 000 до 1 000 000 руб.(самая большая категория в выборке)\n",
    "Категория клиентов с значениями доходов (ниже 30 000 руб или выше 1 000 000 руб) являются слишком маленькой. Достоверно говорить о вероятности просрочек от этих клиентов нельзя.\n",
    "\n",
    "Как разные цели кредита влияют на его возврат в срок?\n",
    "По результатам проверки данной гипотезы выявлена следующая закономерность - меньше всего просрочек в самой большой категории по кредитам на недвижимость, а больше всего по займам на автомобиль. Срок возврата кредита не зависит от цели, и каждая цель является релевантной для скорбалла\n",
    "\n",
    "\n",
    "Для наиболее точного установления скоринга, также можно провести исследование по выявлению количества просроченных дней и объему просрочки, так как данные анализ позволит наиболее точно выявить группу людей , которая порождает наибольшие финансовые проблемы "
   ]
  }
 ],
 "metadata": {
  "ExecuteTimeLog": [
   {
    "duration": 712,
    "start_time": "2024-01-25T08:44:43.160Z"
   },
   {
    "duration": 73,
    "start_time": "2024-01-25T08:44:48.186Z"
   },
   {
    "duration": 475,
    "start_time": "2024-01-25T08:45:05.082Z"
   },
   {
    "duration": 21,
    "start_time": "2024-01-25T08:45:05.558Z"
   },
   {
    "duration": 17,
    "start_time": "2024-01-25T08:45:05.581Z"
   },
   {
    "duration": 20,
    "start_time": "2024-01-25T08:45:05.600Z"
   },
   {
    "duration": 46,
    "start_time": "2024-01-25T08:45:05.621Z"
   },
   {
    "duration": 3,
    "start_time": "2024-01-25T08:45:05.669Z"
   },
   {
    "duration": 11,
    "start_time": "2024-01-25T08:45:05.674Z"
   },
   {
    "duration": 5,
    "start_time": "2024-01-25T08:45:05.687Z"
   },
   {
    "duration": 20,
    "start_time": "2024-01-25T08:45:05.694Z"
   },
   {
    "duration": 5,
    "start_time": "2024-01-25T08:45:05.717Z"
   },
   {
    "duration": 47,
    "start_time": "2024-01-25T08:45:05.723Z"
   },
   {
    "duration": 11,
    "start_time": "2024-01-25T08:45:05.772Z"
   },
   {
    "duration": 7,
    "start_time": "2024-01-25T08:45:05.784Z"
   },
   {
    "duration": 14,
    "start_time": "2024-01-25T08:45:05.793Z"
   },
   {
    "duration": 33,
    "start_time": "2024-01-25T08:45:05.809Z"
   },
   {
    "duration": 25,
    "start_time": "2024-01-25T08:45:05.843Z"
   },
   {
    "duration": 5,
    "start_time": "2024-01-25T08:45:05.870Z"
   },
   {
    "duration": 24,
    "start_time": "2024-01-25T08:45:05.876Z"
   },
   {
    "duration": 15,
    "start_time": "2024-01-25T08:45:05.902Z"
   },
   {
    "duration": 5,
    "start_time": "2024-01-25T08:45:05.919Z"
   },
   {
    "duration": 25,
    "start_time": "2024-01-25T08:45:05.926Z"
   },
   {
    "duration": 5,
    "start_time": "2024-01-25T08:45:05.953Z"
   },
   {
    "duration": 8,
    "start_time": "2024-01-25T08:45:05.959Z"
   },
   {
    "duration": 17,
    "start_time": "2024-01-25T08:45:05.969Z"
   },
   {
    "duration": 20,
    "start_time": "2024-01-25T08:45:05.988Z"
   },
   {
    "duration": 474,
    "start_time": "2024-01-25T11:27:25.919Z"
   },
   {
    "duration": 22,
    "start_time": "2024-01-25T11:27:26.395Z"
   },
   {
    "duration": 15,
    "start_time": "2024-01-25T11:27:26.419Z"
   },
   {
    "duration": 34,
    "start_time": "2024-01-25T11:27:26.436Z"
   },
   {
    "duration": 60,
    "start_time": "2024-01-25T11:27:26.471Z"
   },
   {
    "duration": 3,
    "start_time": "2024-01-25T11:27:26.533Z"
   },
   {
    "duration": 35,
    "start_time": "2024-01-25T11:27:26.537Z"
   },
   {
    "duration": 28,
    "start_time": "2024-01-25T11:27:26.573Z"
   },
   {
    "duration": 20,
    "start_time": "2024-01-25T11:27:26.603Z"
   },
   {
    "duration": 13,
    "start_time": "2024-01-25T11:27:26.626Z"
   },
   {
    "duration": 45,
    "start_time": "2024-01-25T11:27:26.640Z"
   },
   {
    "duration": 10,
    "start_time": "2024-01-25T11:27:26.687Z"
   },
   {
    "duration": 10,
    "start_time": "2024-01-25T11:27:26.699Z"
   },
   {
    "duration": 16,
    "start_time": "2024-01-25T11:27:26.711Z"
   },
   {
    "duration": 64,
    "start_time": "2024-01-25T11:27:26.729Z"
   },
   {
    "duration": 17,
    "start_time": "2024-01-25T11:27:26.795Z"
   },
   {
    "duration": 7,
    "start_time": "2024-01-25T11:27:26.813Z"
   },
   {
    "duration": 19,
    "start_time": "2024-01-25T11:27:26.821Z"
   },
   {
    "duration": 29,
    "start_time": "2024-01-25T11:27:26.842Z"
   },
   {
    "duration": 17,
    "start_time": "2024-01-25T11:27:26.872Z"
   },
   {
    "duration": 37,
    "start_time": "2024-01-25T11:27:26.891Z"
   },
   {
    "duration": 20,
    "start_time": "2024-01-25T11:27:26.929Z"
   },
   {
    "duration": 13,
    "start_time": "2024-01-25T11:27:26.951Z"
   },
   {
    "duration": 21,
    "start_time": "2024-01-25T11:27:26.965Z"
   },
   {
    "duration": 465,
    "start_time": "2024-01-25T12:24:12.581Z"
   },
   {
    "duration": 22,
    "start_time": "2024-01-25T12:24:13.048Z"
   },
   {
    "duration": 38,
    "start_time": "2024-01-25T12:24:13.071Z"
   },
   {
    "duration": 21,
    "start_time": "2024-01-25T12:24:13.110Z"
   },
   {
    "duration": 65,
    "start_time": "2024-01-25T12:24:13.132Z"
   },
   {
    "duration": 3,
    "start_time": "2024-01-25T12:24:13.199Z"
   },
   {
    "duration": 42,
    "start_time": "2024-01-25T12:24:13.203Z"
   },
   {
    "duration": 28,
    "start_time": "2024-01-25T12:24:13.246Z"
   },
   {
    "duration": 33,
    "start_time": "2024-01-25T12:24:13.276Z"
   },
   {
    "duration": 36,
    "start_time": "2024-01-25T12:24:13.311Z"
   },
   {
    "duration": 74,
    "start_time": "2024-01-25T12:24:13.348Z"
   },
   {
    "duration": 10,
    "start_time": "2024-01-25T12:24:13.424Z"
   },
   {
    "duration": 38,
    "start_time": "2024-01-25T12:24:13.435Z"
   },
   {
    "duration": 35,
    "start_time": "2024-01-25T12:24:13.474Z"
   },
   {
    "duration": 45,
    "start_time": "2024-01-25T12:24:13.511Z"
   },
   {
    "duration": 23,
    "start_time": "2024-01-25T12:24:13.558Z"
   },
   {
    "duration": 10,
    "start_time": "2024-01-25T12:24:13.583Z"
   },
   {
    "duration": 39,
    "start_time": "2024-01-25T12:24:13.594Z"
   },
   {
    "duration": 41,
    "start_time": "2024-01-25T12:24:13.634Z"
   },
   {
    "duration": 37,
    "start_time": "2024-01-25T12:24:13.677Z"
   },
   {
    "duration": 40,
    "start_time": "2024-01-25T12:24:13.716Z"
   },
   {
    "duration": 73,
    "start_time": "2024-01-25T12:24:13.758Z"
   },
   {
    "duration": 0,
    "start_time": "2024-01-25T12:24:13.834Z"
   },
   {
    "duration": 0,
    "start_time": "2024-01-25T12:24:13.835Z"
   },
   {
    "duration": 471,
    "start_time": "2024-01-25T12:24:36.285Z"
   },
   {
    "duration": 32,
    "start_time": "2024-01-25T12:24:36.758Z"
   },
   {
    "duration": 15,
    "start_time": "2024-01-25T12:24:36.792Z"
   },
   {
    "duration": 35,
    "start_time": "2024-01-25T12:24:36.808Z"
   },
   {
    "duration": 56,
    "start_time": "2024-01-25T12:24:36.845Z"
   },
   {
    "duration": 3,
    "start_time": "2024-01-25T12:24:36.903Z"
   },
   {
    "duration": 31,
    "start_time": "2024-01-25T12:24:36.908Z"
   },
   {
    "duration": 7,
    "start_time": "2024-01-25T12:24:36.941Z"
   },
   {
    "duration": 28,
    "start_time": "2024-01-25T12:24:36.950Z"
   },
   {
    "duration": 16,
    "start_time": "2024-01-25T12:24:36.980Z"
   },
   {
    "duration": 61,
    "start_time": "2024-01-25T12:24:36.998Z"
   },
   {
    "duration": 10,
    "start_time": "2024-01-25T12:24:37.060Z"
   },
   {
    "duration": 19,
    "start_time": "2024-01-25T12:24:37.072Z"
   },
   {
    "duration": 29,
    "start_time": "2024-01-25T12:24:37.093Z"
   },
   {
    "duration": 44,
    "start_time": "2024-01-25T12:24:37.123Z"
   },
   {
    "duration": 61,
    "start_time": "2024-01-25T12:24:37.169Z"
   },
   {
    "duration": 32,
    "start_time": "2024-01-25T12:24:37.232Z"
   },
   {
    "duration": 46,
    "start_time": "2024-01-25T12:24:37.266Z"
   },
   {
    "duration": 33,
    "start_time": "2024-01-25T12:24:37.314Z"
   },
   {
    "duration": 27,
    "start_time": "2024-01-25T12:24:37.349Z"
   },
   {
    "duration": 33,
    "start_time": "2024-01-25T12:24:37.378Z"
   },
   {
    "duration": 74,
    "start_time": "2024-01-25T12:24:37.413Z"
   },
   {
    "duration": 0,
    "start_time": "2024-01-25T12:24:37.489Z"
   },
   {
    "duration": 0,
    "start_time": "2024-01-25T12:24:37.490Z"
   },
   {
    "duration": 444,
    "start_time": "2024-01-25T12:25:59.826Z"
   },
   {
    "duration": 22,
    "start_time": "2024-01-25T12:26:00.275Z"
   },
   {
    "duration": 54,
    "start_time": "2024-01-25T12:26:00.298Z"
   },
   {
    "duration": 38,
    "start_time": "2024-01-25T12:26:00.354Z"
   },
   {
    "duration": 56,
    "start_time": "2024-01-25T12:26:00.394Z"
   },
   {
    "duration": 3,
    "start_time": "2024-01-25T12:26:00.452Z"
   },
   {
    "duration": 54,
    "start_time": "2024-01-25T12:26:00.456Z"
   },
   {
    "duration": 50,
    "start_time": "2024-01-25T12:26:00.512Z"
   },
   {
    "duration": 53,
    "start_time": "2024-01-25T12:26:00.564Z"
   },
   {
    "duration": 39,
    "start_time": "2024-01-25T12:26:00.619Z"
   },
   {
    "duration": 89,
    "start_time": "2024-01-25T12:26:00.659Z"
   },
   {
    "duration": 61,
    "start_time": "2024-01-25T12:26:00.750Z"
   },
   {
    "duration": 38,
    "start_time": "2024-01-25T12:26:00.813Z"
   },
   {
    "duration": 55,
    "start_time": "2024-01-25T12:26:00.853Z"
   },
   {
    "duration": 56,
    "start_time": "2024-01-25T12:26:00.910Z"
   },
   {
    "duration": 66,
    "start_time": "2024-01-25T12:26:00.968Z"
   },
   {
    "duration": 67,
    "start_time": "2024-01-25T12:26:01.036Z"
   },
   {
    "duration": 63,
    "start_time": "2024-01-25T12:26:01.105Z"
   },
   {
    "duration": 43,
    "start_time": "2024-01-25T12:26:01.169Z"
   },
   {
    "duration": 88,
    "start_time": "2024-01-25T12:26:01.214Z"
   },
   {
    "duration": 81,
    "start_time": "2024-01-25T12:26:01.304Z"
   },
   {
    "duration": 49,
    "start_time": "2024-01-25T12:26:01.386Z"
   },
   {
    "duration": 485,
    "start_time": "2024-01-25T12:29:18.762Z"
   },
   {
    "duration": 22,
    "start_time": "2024-01-25T12:29:19.249Z"
   },
   {
    "duration": 35,
    "start_time": "2024-01-25T12:29:19.273Z"
   },
   {
    "duration": 19,
    "start_time": "2024-01-25T12:29:19.310Z"
   },
   {
    "duration": 51,
    "start_time": "2024-01-25T12:29:19.331Z"
   },
   {
    "duration": 19,
    "start_time": "2024-01-25T12:29:19.384Z"
   },
   {
    "duration": 27,
    "start_time": "2024-01-25T12:29:19.405Z"
   },
   {
    "duration": 20,
    "start_time": "2024-01-25T12:29:19.433Z"
   },
   {
    "duration": 25,
    "start_time": "2024-01-25T12:29:19.455Z"
   },
   {
    "duration": 18,
    "start_time": "2024-01-25T12:29:19.481Z"
   },
   {
    "duration": 54,
    "start_time": "2024-01-25T12:29:19.500Z"
   },
   {
    "duration": 18,
    "start_time": "2024-01-25T12:29:19.555Z"
   },
   {
    "duration": 13,
    "start_time": "2024-01-25T12:29:19.574Z"
   },
   {
    "duration": 21,
    "start_time": "2024-01-25T12:29:19.590Z"
   },
   {
    "duration": 25,
    "start_time": "2024-01-25T12:29:19.612Z"
   },
   {
    "duration": 20,
    "start_time": "2024-01-25T12:29:19.639Z"
   },
   {
    "duration": 6,
    "start_time": "2024-01-25T12:29:19.661Z"
   },
   {
    "duration": 40,
    "start_time": "2024-01-25T12:29:19.668Z"
   },
   {
    "duration": 29,
    "start_time": "2024-01-25T12:29:19.709Z"
   },
   {
    "duration": 20,
    "start_time": "2024-01-25T12:29:19.740Z"
   },
   {
    "duration": 28,
    "start_time": "2024-01-25T12:29:19.762Z"
   },
   {
    "duration": 81,
    "start_time": "2024-01-25T12:29:19.792Z"
   },
   {
    "duration": 447,
    "start_time": "2024-01-25T12:45:52.024Z"
   },
   {
    "duration": 21,
    "start_time": "2024-01-25T12:45:52.473Z"
   },
   {
    "duration": 16,
    "start_time": "2024-01-25T12:45:52.495Z"
   },
   {
    "duration": 15,
    "start_time": "2024-01-25T12:45:52.513Z"
   },
   {
    "duration": 63,
    "start_time": "2024-01-25T12:45:52.530Z"
   },
   {
    "duration": 4,
    "start_time": "2024-01-25T12:45:52.594Z"
   },
   {
    "duration": 23,
    "start_time": "2024-01-25T12:45:52.599Z"
   },
   {
    "duration": 4,
    "start_time": "2024-01-25T12:45:52.624Z"
   },
   {
    "duration": 11,
    "start_time": "2024-01-25T12:45:52.629Z"
   },
   {
    "duration": 6,
    "start_time": "2024-01-25T12:45:52.643Z"
   },
   {
    "duration": 35,
    "start_time": "2024-01-25T12:45:52.666Z"
   },
   {
    "duration": 12,
    "start_time": "2024-01-25T12:45:52.703Z"
   },
   {
    "duration": 4,
    "start_time": "2024-01-25T12:45:52.717Z"
   },
   {
    "duration": 46,
    "start_time": "2024-01-25T12:45:52.722Z"
   },
   {
    "duration": 20,
    "start_time": "2024-01-25T12:45:52.769Z"
   },
   {
    "duration": 17,
    "start_time": "2024-01-25T12:45:52.791Z"
   },
   {
    "duration": 3,
    "start_time": "2024-01-25T12:45:52.810Z"
   },
   {
    "duration": 13,
    "start_time": "2024-01-25T12:45:52.814Z"
   },
   {
    "duration": 38,
    "start_time": "2024-01-25T12:45:52.828Z"
   },
   {
    "duration": 4,
    "start_time": "2024-01-25T12:45:52.868Z"
   },
   {
    "duration": 14,
    "start_time": "2024-01-25T12:45:52.874Z"
   },
   {
    "duration": 73,
    "start_time": "2024-01-25T12:45:52.889Z"
   },
   {
    "duration": 474,
    "start_time": "2024-01-25T12:46:24.482Z"
   },
   {
    "duration": 23,
    "start_time": "2024-01-25T12:46:24.958Z"
   },
   {
    "duration": 34,
    "start_time": "2024-01-25T12:46:24.983Z"
   },
   {
    "duration": 23,
    "start_time": "2024-01-25T12:46:25.020Z"
   },
   {
    "duration": 54,
    "start_time": "2024-01-25T12:46:25.046Z"
   },
   {
    "duration": 3,
    "start_time": "2024-01-25T12:46:25.102Z"
   },
   {
    "duration": 24,
    "start_time": "2024-01-25T12:46:25.107Z"
   },
   {
    "duration": 46,
    "start_time": "2024-01-25T12:46:25.133Z"
   },
   {
    "duration": 20,
    "start_time": "2024-01-25T12:46:25.180Z"
   },
   {
    "duration": 26,
    "start_time": "2024-01-25T12:46:25.201Z"
   },
   {
    "duration": 60,
    "start_time": "2024-01-25T12:46:25.229Z"
   },
   {
    "duration": 11,
    "start_time": "2024-01-25T12:46:25.290Z"
   },
   {
    "duration": 43,
    "start_time": "2024-01-25T12:46:25.302Z"
   },
   {
    "duration": 70,
    "start_time": "2024-01-25T12:46:25.348Z"
   },
   {
    "duration": 76,
    "start_time": "2024-01-25T12:46:25.420Z"
   },
   {
    "duration": 26,
    "start_time": "2024-01-25T12:46:25.498Z"
   },
   {
    "duration": 45,
    "start_time": "2024-01-25T12:46:25.526Z"
   },
   {
    "duration": 40,
    "start_time": "2024-01-25T12:46:25.573Z"
   },
   {
    "duration": 25,
    "start_time": "2024-01-25T12:46:25.615Z"
   },
   {
    "duration": 69,
    "start_time": "2024-01-25T12:46:25.642Z"
   },
   {
    "duration": 19,
    "start_time": "2024-01-25T12:46:25.712Z"
   },
   {
    "duration": 497,
    "start_time": "2024-01-25T12:48:07.935Z"
   },
   {
    "duration": 22,
    "start_time": "2024-01-25T12:48:08.434Z"
   },
   {
    "duration": 25,
    "start_time": "2024-01-25T12:48:08.458Z"
   },
   {
    "duration": 32,
    "start_time": "2024-01-25T12:48:08.485Z"
   },
   {
    "duration": 68,
    "start_time": "2024-01-25T12:48:08.519Z"
   },
   {
    "duration": 5,
    "start_time": "2024-01-25T12:48:08.589Z"
   },
   {
    "duration": 30,
    "start_time": "2024-01-25T12:48:08.596Z"
   },
   {
    "duration": 12,
    "start_time": "2024-01-25T12:48:08.627Z"
   },
   {
    "duration": 26,
    "start_time": "2024-01-25T12:48:08.640Z"
   },
   {
    "duration": 20,
    "start_time": "2024-01-25T12:48:08.668Z"
   },
   {
    "duration": 66,
    "start_time": "2024-01-25T12:48:08.690Z"
   },
   {
    "duration": 11,
    "start_time": "2024-01-25T12:48:08.757Z"
   },
   {
    "duration": 18,
    "start_time": "2024-01-25T12:48:08.769Z"
   },
   {
    "duration": 21,
    "start_time": "2024-01-25T12:48:08.789Z"
   },
   {
    "duration": 22,
    "start_time": "2024-01-25T12:48:08.811Z"
   },
   {
    "duration": 16,
    "start_time": "2024-01-25T12:48:08.834Z"
   },
   {
    "duration": 13,
    "start_time": "2024-01-25T12:48:08.851Z"
   },
   {
    "duration": 17,
    "start_time": "2024-01-25T12:48:08.866Z"
   },
   {
    "duration": 23,
    "start_time": "2024-01-25T12:48:08.884Z"
   },
   {
    "duration": 13,
    "start_time": "2024-01-25T12:48:08.908Z"
   },
   {
    "duration": 25,
    "start_time": "2024-01-25T12:48:08.923Z"
   },
   {
    "duration": 71,
    "start_time": "2024-01-25T14:41:41.880Z"
   },
   {
    "duration": 507,
    "start_time": "2024-01-25T14:41:53.632Z"
   },
   {
    "duration": 22,
    "start_time": "2024-01-25T14:41:54.140Z"
   },
   {
    "duration": 23,
    "start_time": "2024-01-25T14:41:54.163Z"
   },
   {
    "duration": 9,
    "start_time": "2024-01-25T14:41:54.188Z"
   },
   {
    "duration": 34,
    "start_time": "2024-01-25T14:41:54.199Z"
   },
   {
    "duration": 3,
    "start_time": "2024-01-25T14:41:54.234Z"
   },
   {
    "duration": 31,
    "start_time": "2024-01-25T14:41:54.238Z"
   },
   {
    "duration": 6,
    "start_time": "2024-01-25T14:41:54.270Z"
   },
   {
    "duration": 8,
    "start_time": "2024-01-25T14:41:54.277Z"
   },
   {
    "duration": 5,
    "start_time": "2024-01-25T14:41:54.287Z"
   },
   {
    "duration": 40,
    "start_time": "2024-01-25T14:41:54.293Z"
   },
   {
    "duration": 45,
    "start_time": "2024-01-25T14:41:54.335Z"
   },
   {
    "duration": 4,
    "start_time": "2024-01-25T14:41:54.382Z"
   },
   {
    "duration": 13,
    "start_time": "2024-01-25T14:41:54.387Z"
   },
   {
    "duration": 19,
    "start_time": "2024-01-25T14:41:54.401Z"
   },
   {
    "duration": 49,
    "start_time": "2024-01-25T14:41:54.422Z"
   },
   {
    "duration": 5,
    "start_time": "2024-01-25T14:41:54.473Z"
   },
   {
    "duration": 11,
    "start_time": "2024-01-25T14:41:54.480Z"
   },
   {
    "duration": 19,
    "start_time": "2024-01-25T14:41:54.493Z"
   },
   {
    "duration": 5,
    "start_time": "2024-01-25T14:41:54.513Z"
   },
   {
    "duration": 19,
    "start_time": "2024-01-25T14:41:54.520Z"
   },
   {
    "duration": 5,
    "start_time": "2024-01-25T14:41:54.540Z"
   },
   {
    "duration": 81,
    "start_time": "2024-01-25T14:41:54.547Z"
   },
   {
    "duration": 0,
    "start_time": "2024-01-25T14:41:54.629Z"
   },
   {
    "duration": 471,
    "start_time": "2024-01-25T14:42:28.086Z"
   },
   {
    "duration": 27,
    "start_time": "2024-01-25T14:42:28.558Z"
   },
   {
    "duration": 15,
    "start_time": "2024-01-25T14:42:28.587Z"
   },
   {
    "duration": 10,
    "start_time": "2024-01-25T14:42:28.604Z"
   },
   {
    "duration": 78,
    "start_time": "2024-01-25T14:42:28.615Z"
   },
   {
    "duration": 4,
    "start_time": "2024-01-25T14:42:28.696Z"
   },
   {
    "duration": 23,
    "start_time": "2024-01-25T14:42:28.701Z"
   },
   {
    "duration": 8,
    "start_time": "2024-01-25T14:42:28.726Z"
   },
   {
    "duration": 11,
    "start_time": "2024-01-25T14:42:28.735Z"
   },
   {
    "duration": 10,
    "start_time": "2024-01-25T14:42:28.748Z"
   },
   {
    "duration": 59,
    "start_time": "2024-01-25T14:42:28.759Z"
   },
   {
    "duration": 11,
    "start_time": "2024-01-25T14:42:28.819Z"
   },
   {
    "duration": 19,
    "start_time": "2024-01-25T14:42:28.832Z"
   },
   {
    "duration": 20,
    "start_time": "2024-01-25T14:42:28.853Z"
   },
   {
    "duration": 33,
    "start_time": "2024-01-25T14:42:28.875Z"
   },
   {
    "duration": 18,
    "start_time": "2024-01-25T14:42:28.909Z"
   },
   {
    "duration": 4,
    "start_time": "2024-01-25T14:42:28.928Z"
   },
   {
    "duration": 19,
    "start_time": "2024-01-25T14:42:28.933Z"
   },
   {
    "duration": 18,
    "start_time": "2024-01-25T14:42:28.954Z"
   },
   {
    "duration": 12,
    "start_time": "2024-01-25T14:42:28.973Z"
   },
   {
    "duration": 19,
    "start_time": "2024-01-25T14:42:28.986Z"
   },
   {
    "duration": 16,
    "start_time": "2024-01-25T14:42:29.006Z"
   },
   {
    "duration": 16,
    "start_time": "2024-01-25T14:42:29.024Z"
   },
   {
    "duration": 75,
    "start_time": "2024-01-25T14:42:29.042Z"
   },
   {
    "duration": 457,
    "start_time": "2024-01-25T14:45:14.322Z"
   },
   {
    "duration": 24,
    "start_time": "2024-01-25T14:45:14.781Z"
   },
   {
    "duration": 27,
    "start_time": "2024-01-25T14:45:14.807Z"
   },
   {
    "duration": 12,
    "start_time": "2024-01-25T14:45:14.836Z"
   },
   {
    "duration": 44,
    "start_time": "2024-01-25T14:45:14.865Z"
   },
   {
    "duration": 4,
    "start_time": "2024-01-25T14:45:14.911Z"
   },
   {
    "duration": 27,
    "start_time": "2024-01-25T14:45:14.916Z"
   },
   {
    "duration": 30,
    "start_time": "2024-01-25T14:45:14.944Z"
   },
   {
    "duration": 19,
    "start_time": "2024-01-25T14:45:14.976Z"
   },
   {
    "duration": 139,
    "start_time": "2024-01-25T14:45:14.997Z"
   },
   {
    "duration": 198,
    "start_time": "2024-01-25T14:45:15.138Z"
   },
   {
    "duration": 45,
    "start_time": "2024-01-25T14:45:15.338Z"
   },
   {
    "duration": 56,
    "start_time": "2024-01-25T14:45:15.384Z"
   },
   {
    "duration": 80,
    "start_time": "2024-01-25T14:45:15.443Z"
   },
   {
    "duration": 108,
    "start_time": "2024-01-25T14:45:15.524Z"
   },
   {
    "duration": 58,
    "start_time": "2024-01-25T14:45:15.633Z"
   },
   {
    "duration": 32,
    "start_time": "2024-01-25T14:45:15.693Z"
   },
   {
    "duration": 24,
    "start_time": "2024-01-25T14:45:15.727Z"
   },
   {
    "duration": 24,
    "start_time": "2024-01-25T14:45:15.752Z"
   },
   {
    "duration": 19,
    "start_time": "2024-01-25T14:45:15.778Z"
   },
   {
    "duration": 23,
    "start_time": "2024-01-25T14:45:15.798Z"
   },
   {
    "duration": 6,
    "start_time": "2024-01-25T14:45:15.823Z"
   },
   {
    "duration": 44,
    "start_time": "2024-01-25T14:45:15.831Z"
   },
   {
    "duration": 81,
    "start_time": "2024-01-25T14:45:15.877Z"
   },
   {
    "duration": 519,
    "start_time": "2024-01-25T14:46:09.250Z"
   },
   {
    "duration": 27,
    "start_time": "2024-01-25T14:46:09.771Z"
   },
   {
    "duration": 42,
    "start_time": "2024-01-25T14:46:09.800Z"
   },
   {
    "duration": 30,
    "start_time": "2024-01-25T14:46:09.844Z"
   },
   {
    "duration": 50,
    "start_time": "2024-01-25T14:46:09.876Z"
   },
   {
    "duration": 3,
    "start_time": "2024-01-25T14:46:09.927Z"
   },
   {
    "duration": 19,
    "start_time": "2024-01-25T14:46:09.932Z"
   },
   {
    "duration": 18,
    "start_time": "2024-01-25T14:46:09.952Z"
   },
   {
    "duration": 28,
    "start_time": "2024-01-25T14:46:09.972Z"
   },
   {
    "duration": 47,
    "start_time": "2024-01-25T14:46:10.003Z"
   },
   {
    "duration": 72,
    "start_time": "2024-01-25T14:46:10.052Z"
   },
   {
    "duration": 12,
    "start_time": "2024-01-25T14:46:10.126Z"
   },
   {
    "duration": 6,
    "start_time": "2024-01-25T14:46:10.139Z"
   },
   {
    "duration": 15,
    "start_time": "2024-01-25T14:46:10.147Z"
   },
   {
    "duration": 49,
    "start_time": "2024-01-25T14:46:10.163Z"
   },
   {
    "duration": 16,
    "start_time": "2024-01-25T14:46:10.213Z"
   },
   {
    "duration": 4,
    "start_time": "2024-01-25T14:46:10.230Z"
   },
   {
    "duration": 20,
    "start_time": "2024-01-25T14:46:10.235Z"
   },
   {
    "duration": 20,
    "start_time": "2024-01-25T14:46:10.256Z"
   },
   {
    "duration": 4,
    "start_time": "2024-01-25T14:46:10.278Z"
   },
   {
    "duration": 13,
    "start_time": "2024-01-25T14:46:10.284Z"
   },
   {
    "duration": 3,
    "start_time": "2024-01-25T14:46:10.299Z"
   },
   {
    "duration": 44,
    "start_time": "2024-01-25T14:46:10.304Z"
   },
   {
    "duration": 80,
    "start_time": "2024-01-25T14:46:10.350Z"
   },
   {
    "duration": 0,
    "start_time": "2024-01-25T14:46:10.431Z"
   },
   {
    "duration": 543,
    "start_time": "2024-01-25T15:05:07.371Z"
   },
   {
    "duration": 23,
    "start_time": "2024-01-25T15:05:07.916Z"
   },
   {
    "duration": 27,
    "start_time": "2024-01-25T15:05:07.940Z"
   },
   {
    "duration": 22,
    "start_time": "2024-01-25T15:05:07.970Z"
   },
   {
    "duration": 40,
    "start_time": "2024-01-25T15:05:07.994Z"
   },
   {
    "duration": 3,
    "start_time": "2024-01-25T15:05:08.036Z"
   },
   {
    "duration": 18,
    "start_time": "2024-01-25T15:05:08.065Z"
   },
   {
    "duration": 4,
    "start_time": "2024-01-25T15:05:08.085Z"
   },
   {
    "duration": 7,
    "start_time": "2024-01-25T15:05:08.091Z"
   },
   {
    "duration": 5,
    "start_time": "2024-01-25T15:05:08.102Z"
   },
   {
    "duration": 82,
    "start_time": "2024-01-25T15:05:08.108Z"
   },
   {
    "duration": 10,
    "start_time": "2024-01-25T15:05:08.192Z"
   },
   {
    "duration": 11,
    "start_time": "2024-01-25T15:05:08.203Z"
   },
   {
    "duration": 13,
    "start_time": "2024-01-25T15:05:08.215Z"
   },
   {
    "duration": 55,
    "start_time": "2024-01-25T15:05:08.230Z"
   },
   {
    "duration": 16,
    "start_time": "2024-01-25T15:05:08.287Z"
   },
   {
    "duration": 9,
    "start_time": "2024-01-25T15:05:08.305Z"
   },
   {
    "duration": 34,
    "start_time": "2024-01-25T15:05:08.316Z"
   },
   {
    "duration": 8,
    "start_time": "2024-01-25T15:05:08.352Z"
   },
   {
    "duration": 18,
    "start_time": "2024-01-25T15:05:08.366Z"
   },
   {
    "duration": 16,
    "start_time": "2024-01-25T15:05:08.386Z"
   },
   {
    "duration": 9,
    "start_time": "2024-01-25T15:05:08.403Z"
   },
   {
    "duration": 16,
    "start_time": "2024-01-25T15:05:08.413Z"
   },
   {
    "duration": 16,
    "start_time": "2024-01-25T15:05:08.430Z"
   },
   {
    "duration": 86,
    "start_time": "2024-01-25T15:05:08.448Z"
   },
   {
    "duration": 0,
    "start_time": "2024-01-25T15:05:08.535Z"
   },
   {
    "duration": 497,
    "start_time": "2024-01-25T15:05:59.352Z"
   },
   {
    "duration": 29,
    "start_time": "2024-01-25T15:05:59.852Z"
   },
   {
    "duration": 17,
    "start_time": "2024-01-25T15:05:59.883Z"
   },
   {
    "duration": 10,
    "start_time": "2024-01-25T15:05:59.902Z"
   },
   {
    "duration": 82,
    "start_time": "2024-01-25T15:05:59.914Z"
   },
   {
    "duration": 4,
    "start_time": "2024-01-25T15:05:59.997Z"
   },
   {
    "duration": 73,
    "start_time": "2024-01-25T15:06:00.002Z"
   },
   {
    "duration": 35,
    "start_time": "2024-01-25T15:06:00.078Z"
   },
   {
    "duration": 27,
    "start_time": "2024-01-25T15:06:00.115Z"
   },
   {
    "duration": 56,
    "start_time": "2024-01-25T15:06:00.146Z"
   },
   {
    "duration": 86,
    "start_time": "2024-01-25T15:06:00.203Z"
   },
   {
    "duration": 51,
    "start_time": "2024-01-25T15:06:00.290Z"
   },
   {
    "duration": 57,
    "start_time": "2024-01-25T15:06:00.342Z"
   },
   {
    "duration": 58,
    "start_time": "2024-01-25T15:06:00.400Z"
   },
   {
    "duration": 67,
    "start_time": "2024-01-25T15:06:00.460Z"
   },
   {
    "duration": 46,
    "start_time": "2024-01-25T15:06:00.529Z"
   },
   {
    "duration": 50,
    "start_time": "2024-01-25T15:06:00.577Z"
   },
   {
    "duration": 165,
    "start_time": "2024-01-25T15:06:00.629Z"
   },
   {
    "duration": 190,
    "start_time": "2024-01-25T15:06:00.796Z"
   },
   {
    "duration": 40,
    "start_time": "2024-01-25T15:06:00.988Z"
   },
   {
    "duration": 47,
    "start_time": "2024-01-25T15:06:01.029Z"
   },
   {
    "duration": 30,
    "start_time": "2024-01-25T15:06:01.078Z"
   },
   {
    "duration": 56,
    "start_time": "2024-01-25T15:06:01.109Z"
   },
   {
    "duration": 50,
    "start_time": "2024-01-25T15:06:01.167Z"
   },
   {
    "duration": 74,
    "start_time": "2024-01-25T15:06:01.218Z"
   },
   {
    "duration": 0,
    "start_time": "2024-01-25T15:06:01.293Z"
   },
   {
    "duration": 530,
    "start_time": "2024-01-25T15:07:26.734Z"
   },
   {
    "duration": 27,
    "start_time": "2024-01-25T15:07:27.269Z"
   },
   {
    "duration": 15,
    "start_time": "2024-01-25T15:07:27.298Z"
   },
   {
    "duration": 21,
    "start_time": "2024-01-25T15:07:27.316Z"
   },
   {
    "duration": 88,
    "start_time": "2024-01-25T15:07:27.338Z"
   },
   {
    "duration": 4,
    "start_time": "2024-01-25T15:07:27.428Z"
   },
   {
    "duration": 21,
    "start_time": "2024-01-25T15:07:27.434Z"
   },
   {
    "duration": 24,
    "start_time": "2024-01-25T15:07:27.457Z"
   },
   {
    "duration": 9,
    "start_time": "2024-01-25T15:07:27.482Z"
   },
   {
    "duration": 19,
    "start_time": "2024-01-25T15:07:27.493Z"
   },
   {
    "duration": 52,
    "start_time": "2024-01-25T15:07:27.514Z"
   },
   {
    "duration": 23,
    "start_time": "2024-01-25T15:07:27.568Z"
   },
   {
    "duration": 13,
    "start_time": "2024-01-25T15:07:27.592Z"
   },
   {
    "duration": 17,
    "start_time": "2024-01-25T15:07:27.606Z"
   },
   {
    "duration": 41,
    "start_time": "2024-01-25T15:07:27.625Z"
   },
   {
    "duration": 23,
    "start_time": "2024-01-25T15:07:27.668Z"
   },
   {
    "duration": 3,
    "start_time": "2024-01-25T15:07:27.693Z"
   },
   {
    "duration": 27,
    "start_time": "2024-01-25T15:07:27.698Z"
   },
   {
    "duration": 22,
    "start_time": "2024-01-25T15:07:27.726Z"
   },
   {
    "duration": 30,
    "start_time": "2024-01-25T15:07:27.750Z"
   },
   {
    "duration": 32,
    "start_time": "2024-01-25T15:07:27.782Z"
   },
   {
    "duration": 6,
    "start_time": "2024-01-25T15:07:27.816Z"
   },
   {
    "duration": 16,
    "start_time": "2024-01-25T15:07:27.824Z"
   },
   {
    "duration": 14,
    "start_time": "2024-01-25T15:07:27.842Z"
   },
   {
    "duration": 61,
    "start_time": "2024-01-25T15:07:27.858Z"
   },
   {
    "duration": 501,
    "start_time": "2024-01-25T15:08:01.567Z"
   },
   {
    "duration": 26,
    "start_time": "2024-01-25T15:08:02.075Z"
   },
   {
    "duration": 63,
    "start_time": "2024-01-25T15:08:02.102Z"
   },
   {
    "duration": 39,
    "start_time": "2024-01-25T15:08:02.168Z"
   },
   {
    "duration": 55,
    "start_time": "2024-01-25T15:08:02.209Z"
   },
   {
    "duration": 3,
    "start_time": "2024-01-25T15:08:02.268Z"
   },
   {
    "duration": 44,
    "start_time": "2024-01-25T15:08:02.274Z"
   },
   {
    "duration": 17,
    "start_time": "2024-01-25T15:08:02.319Z"
   },
   {
    "duration": 15,
    "start_time": "2024-01-25T15:08:02.337Z"
   },
   {
    "duration": 32,
    "start_time": "2024-01-25T15:08:02.355Z"
   },
   {
    "duration": 62,
    "start_time": "2024-01-25T15:08:02.388Z"
   },
   {
    "duration": 11,
    "start_time": "2024-01-25T15:08:02.452Z"
   },
   {
    "duration": 25,
    "start_time": "2024-01-25T15:08:02.464Z"
   },
   {
    "duration": 43,
    "start_time": "2024-01-25T15:08:02.491Z"
   },
   {
    "duration": 52,
    "start_time": "2024-01-25T15:08:02.535Z"
   },
   {
    "duration": 17,
    "start_time": "2024-01-25T15:08:02.588Z"
   },
   {
    "duration": 4,
    "start_time": "2024-01-25T15:08:02.606Z"
   },
   {
    "duration": 78,
    "start_time": "2024-01-25T15:08:02.611Z"
   },
   {
    "duration": 24,
    "start_time": "2024-01-25T15:08:02.691Z"
   },
   {
    "duration": 4,
    "start_time": "2024-01-25T15:08:02.717Z"
   },
   {
    "duration": 21,
    "start_time": "2024-01-25T15:08:02.722Z"
   },
   {
    "duration": 41,
    "start_time": "2024-01-25T15:08:02.744Z"
   },
   {
    "duration": 25,
    "start_time": "2024-01-25T15:08:02.787Z"
   },
   {
    "duration": 28,
    "start_time": "2024-01-25T15:08:02.813Z"
   },
   {
    "duration": 83,
    "start_time": "2024-01-25T15:08:02.842Z"
   },
   {
    "duration": 537,
    "start_time": "2024-01-25T15:09:41.474Z"
   },
   {
    "duration": 23,
    "start_time": "2024-01-25T15:09:42.013Z"
   },
   {
    "duration": 47,
    "start_time": "2024-01-25T15:09:42.038Z"
   },
   {
    "duration": 12,
    "start_time": "2024-01-25T15:09:42.087Z"
   },
   {
    "duration": 53,
    "start_time": "2024-01-25T15:09:42.101Z"
   },
   {
    "duration": 11,
    "start_time": "2024-01-25T15:09:42.156Z"
   },
   {
    "duration": 24,
    "start_time": "2024-01-25T15:09:42.170Z"
   },
   {
    "duration": 9,
    "start_time": "2024-01-25T15:09:42.196Z"
   },
   {
    "duration": 35,
    "start_time": "2024-01-25T15:09:42.206Z"
   },
   {
    "duration": 4,
    "start_time": "2024-01-25T15:09:42.246Z"
   },
   {
    "duration": 57,
    "start_time": "2024-01-25T15:09:42.251Z"
   },
   {
    "duration": 10,
    "start_time": "2024-01-25T15:09:42.310Z"
   },
   {
    "duration": 14,
    "start_time": "2024-01-25T15:09:42.321Z"
   },
   {
    "duration": 30,
    "start_time": "2024-01-25T15:09:42.336Z"
   },
   {
    "duration": 19,
    "start_time": "2024-01-25T15:09:42.379Z"
   },
   {
    "duration": 16,
    "start_time": "2024-01-25T15:09:42.400Z"
   },
   {
    "duration": 3,
    "start_time": "2024-01-25T15:09:42.418Z"
   },
   {
    "duration": 19,
    "start_time": "2024-01-25T15:09:42.422Z"
   },
   {
    "duration": 42,
    "start_time": "2024-01-25T15:09:42.443Z"
   },
   {
    "duration": 4,
    "start_time": "2024-01-25T15:09:42.486Z"
   },
   {
    "duration": 12,
    "start_time": "2024-01-25T15:09:42.491Z"
   },
   {
    "duration": 3,
    "start_time": "2024-01-25T15:09:42.505Z"
   },
   {
    "duration": 20,
    "start_time": "2024-01-25T15:09:42.509Z"
   },
   {
    "duration": 85,
    "start_time": "2024-01-25T15:09:42.531Z"
   },
   {
    "duration": 0,
    "start_time": "2024-01-25T15:09:42.617Z"
   },
   {
    "duration": 552,
    "start_time": "2024-01-25T15:11:25.243Z"
   },
   {
    "duration": 25,
    "start_time": "2024-01-25T15:11:25.796Z"
   },
   {
    "duration": 60,
    "start_time": "2024-01-25T15:11:25.823Z"
   },
   {
    "duration": 40,
    "start_time": "2024-01-25T15:11:25.887Z"
   },
   {
    "duration": 80,
    "start_time": "2024-01-25T15:11:25.929Z"
   },
   {
    "duration": 3,
    "start_time": "2024-01-25T15:11:26.011Z"
   },
   {
    "duration": 38,
    "start_time": "2024-01-25T15:11:26.016Z"
   },
   {
    "duration": 41,
    "start_time": "2024-01-25T15:11:26.056Z"
   },
   {
    "duration": 24,
    "start_time": "2024-01-25T15:11:26.098Z"
   },
   {
    "duration": 39,
    "start_time": "2024-01-25T15:11:26.124Z"
   },
   {
    "duration": 48,
    "start_time": "2024-01-25T15:11:26.165Z"
   },
   {
    "duration": 10,
    "start_time": "2024-01-25T15:11:26.214Z"
   },
   {
    "duration": 12,
    "start_time": "2024-01-25T15:11:26.225Z"
   },
   {
    "duration": 16,
    "start_time": "2024-01-25T15:11:26.239Z"
   },
   {
    "duration": 40,
    "start_time": "2024-01-25T15:11:26.257Z"
   },
   {
    "duration": 20,
    "start_time": "2024-01-25T15:11:26.299Z"
   },
   {
    "duration": 26,
    "start_time": "2024-01-25T15:11:26.320Z"
   },
   {
    "duration": 12,
    "start_time": "2024-01-25T15:11:26.347Z"
   },
   {
    "duration": 19,
    "start_time": "2024-01-25T15:11:26.360Z"
   },
   {
    "duration": 5,
    "start_time": "2024-01-25T15:11:26.381Z"
   },
   {
    "duration": 15,
    "start_time": "2024-01-25T15:11:26.388Z"
   },
   {
    "duration": 4,
    "start_time": "2024-01-25T15:11:26.404Z"
   },
   {
    "duration": 42,
    "start_time": "2024-01-25T15:11:26.410Z"
   },
   {
    "duration": 17,
    "start_time": "2024-01-25T15:11:26.454Z"
   },
   {
    "duration": 233,
    "start_time": "2024-01-25T15:11:26.473Z"
   },
   {
    "duration": 518,
    "start_time": "2024-01-25T15:16:33.630Z"
   },
   {
    "duration": 28,
    "start_time": "2024-01-25T15:16:34.150Z"
   },
   {
    "duration": 31,
    "start_time": "2024-01-25T15:16:34.180Z"
   },
   {
    "duration": 39,
    "start_time": "2024-01-25T15:16:34.213Z"
   },
   {
    "duration": 64,
    "start_time": "2024-01-25T15:16:34.254Z"
   },
   {
    "duration": 3,
    "start_time": "2024-01-25T15:16:34.319Z"
   },
   {
    "duration": 34,
    "start_time": "2024-01-25T15:16:34.324Z"
   },
   {
    "duration": 33,
    "start_time": "2024-01-25T15:16:34.360Z"
   },
   {
    "duration": 32,
    "start_time": "2024-01-25T15:16:34.395Z"
   },
   {
    "duration": 22,
    "start_time": "2024-01-25T15:16:34.431Z"
   },
   {
    "duration": 74,
    "start_time": "2024-01-25T15:16:34.455Z"
   },
   {
    "duration": 12,
    "start_time": "2024-01-25T15:16:34.531Z"
   },
   {
    "duration": 15,
    "start_time": "2024-01-25T15:16:34.545Z"
   },
   {
    "duration": 28,
    "start_time": "2024-01-25T15:16:34.562Z"
   },
   {
    "duration": 32,
    "start_time": "2024-01-25T15:16:34.592Z"
   },
   {
    "duration": 20,
    "start_time": "2024-01-25T15:16:34.626Z"
   },
   {
    "duration": 5,
    "start_time": "2024-01-25T15:16:34.648Z"
   },
   {
    "duration": 33,
    "start_time": "2024-01-25T15:16:34.654Z"
   },
   {
    "duration": 16,
    "start_time": "2024-01-25T15:16:34.689Z"
   },
   {
    "duration": 34,
    "start_time": "2024-01-25T15:16:34.707Z"
   },
   {
    "duration": 37,
    "start_time": "2024-01-25T15:16:34.742Z"
   },
   {
    "duration": 15,
    "start_time": "2024-01-25T15:16:34.782Z"
   },
   {
    "duration": 30,
    "start_time": "2024-01-25T15:16:34.799Z"
   },
   {
    "duration": 22,
    "start_time": "2024-01-25T15:16:34.831Z"
   },
   {
    "duration": 45,
    "start_time": "2024-01-25T15:16:34.855Z"
   },
   {
    "duration": 74,
    "start_time": "2024-01-25T15:16:34.902Z"
   },
   {
    "duration": 543,
    "start_time": "2024-01-25T15:23:25.422Z"
   },
   {
    "duration": 25,
    "start_time": "2024-01-25T15:23:25.967Z"
   },
   {
    "duration": 42,
    "start_time": "2024-01-25T15:23:25.994Z"
   },
   {
    "duration": 20,
    "start_time": "2024-01-25T15:23:26.038Z"
   },
   {
    "duration": 63,
    "start_time": "2024-01-25T15:23:26.060Z"
   },
   {
    "duration": 16,
    "start_time": "2024-01-25T15:23:26.125Z"
   },
   {
    "duration": 50,
    "start_time": "2024-01-25T15:23:26.143Z"
   },
   {
    "duration": 40,
    "start_time": "2024-01-25T15:23:26.194Z"
   },
   {
    "duration": 25,
    "start_time": "2024-01-25T15:23:26.236Z"
   },
   {
    "duration": 44,
    "start_time": "2024-01-25T15:23:26.264Z"
   },
   {
    "duration": 66,
    "start_time": "2024-01-25T15:23:26.309Z"
   },
   {
    "duration": 15,
    "start_time": "2024-01-25T15:23:26.377Z"
   },
   {
    "duration": 36,
    "start_time": "2024-01-25T15:23:26.393Z"
   },
   {
    "duration": 28,
    "start_time": "2024-01-25T15:23:26.431Z"
   },
   {
    "duration": 64,
    "start_time": "2024-01-25T15:23:26.461Z"
   },
   {
    "duration": 34,
    "start_time": "2024-01-25T15:23:26.526Z"
   },
   {
    "duration": 31,
    "start_time": "2024-01-25T15:23:26.562Z"
   },
   {
    "duration": 53,
    "start_time": "2024-01-25T15:23:26.595Z"
   },
   {
    "duration": 25,
    "start_time": "2024-01-25T15:23:26.650Z"
   },
   {
    "duration": 12,
    "start_time": "2024-01-25T15:23:26.677Z"
   },
   {
    "duration": 36,
    "start_time": "2024-01-25T15:23:26.691Z"
   },
   {
    "duration": 10,
    "start_time": "2024-01-25T15:23:26.729Z"
   },
   {
    "duration": 45,
    "start_time": "2024-01-25T15:23:26.741Z"
   },
   {
    "duration": 53,
    "start_time": "2024-01-25T15:23:26.788Z"
   },
   {
    "duration": 27,
    "start_time": "2024-01-25T15:23:26.843Z"
   },
   {
    "duration": 76,
    "start_time": "2024-01-25T15:23:26.873Z"
   },
   {
    "duration": 482,
    "start_time": "2024-01-25T15:33:15.825Z"
   },
   {
    "duration": 28,
    "start_time": "2024-01-25T15:33:16.310Z"
   },
   {
    "duration": 35,
    "start_time": "2024-01-25T15:33:16.343Z"
   },
   {
    "duration": 11,
    "start_time": "2024-01-25T15:33:16.380Z"
   },
   {
    "duration": 68,
    "start_time": "2024-01-25T15:33:16.392Z"
   },
   {
    "duration": 6,
    "start_time": "2024-01-25T15:33:16.461Z"
   },
   {
    "duration": 64,
    "start_time": "2024-01-25T15:33:16.468Z"
   },
   {
    "duration": 52,
    "start_time": "2024-01-25T15:33:16.534Z"
   },
   {
    "duration": 37,
    "start_time": "2024-01-25T15:33:16.589Z"
   },
   {
    "duration": 27,
    "start_time": "2024-01-25T15:33:16.628Z"
   },
   {
    "duration": 68,
    "start_time": "2024-01-25T15:33:16.656Z"
   },
   {
    "duration": 11,
    "start_time": "2024-01-25T15:33:16.725Z"
   },
   {
    "duration": 24,
    "start_time": "2024-01-25T15:33:16.737Z"
   },
   {
    "duration": 33,
    "start_time": "2024-01-25T15:33:16.762Z"
   },
   {
    "duration": 41,
    "start_time": "2024-01-25T15:33:16.796Z"
   },
   {
    "duration": 22,
    "start_time": "2024-01-25T15:33:16.839Z"
   },
   {
    "duration": 11,
    "start_time": "2024-01-25T15:33:16.863Z"
   },
   {
    "duration": 18,
    "start_time": "2024-01-25T15:33:16.876Z"
   },
   {
    "duration": 29,
    "start_time": "2024-01-25T15:33:16.896Z"
   },
   {
    "duration": 15,
    "start_time": "2024-01-25T15:33:16.926Z"
   },
   {
    "duration": 79,
    "start_time": "2024-01-25T15:33:16.942Z"
   },
   {
    "duration": 40,
    "start_time": "2024-01-25T15:33:17.022Z"
   },
   {
    "duration": 39,
    "start_time": "2024-01-25T15:33:17.063Z"
   },
   {
    "duration": 37,
    "start_time": "2024-01-25T15:33:17.103Z"
   },
   {
    "duration": 28,
    "start_time": "2024-01-25T15:33:17.141Z"
   },
   {
    "duration": 81,
    "start_time": "2024-01-25T15:33:17.171Z"
   },
   {
    "duration": 468,
    "start_time": "2024-01-25T15:33:39.084Z"
   },
   {
    "duration": 22,
    "start_time": "2024-01-25T15:33:39.555Z"
   },
   {
    "duration": 15,
    "start_time": "2024-01-25T15:33:39.579Z"
   },
   {
    "duration": 10,
    "start_time": "2024-01-25T15:33:39.596Z"
   },
   {
    "duration": 62,
    "start_time": "2024-01-25T15:33:39.608Z"
   },
   {
    "duration": 3,
    "start_time": "2024-01-25T15:33:39.672Z"
   },
   {
    "duration": 11,
    "start_time": "2024-01-25T15:33:39.677Z"
   },
   {
    "duration": 10,
    "start_time": "2024-01-25T15:33:39.690Z"
   },
   {
    "duration": 8,
    "start_time": "2024-01-25T15:33:39.702Z"
   },
   {
    "duration": 14,
    "start_time": "2024-01-25T15:33:39.712Z"
   },
   {
    "duration": 54,
    "start_time": "2024-01-25T15:33:39.728Z"
   },
   {
    "duration": 10,
    "start_time": "2024-01-25T15:33:39.784Z"
   },
   {
    "duration": 3,
    "start_time": "2024-01-25T15:33:39.796Z"
   },
   {
    "duration": 13,
    "start_time": "2024-01-25T15:33:39.801Z"
   },
   {
    "duration": 18,
    "start_time": "2024-01-25T15:33:39.816Z"
   },
   {
    "duration": 38,
    "start_time": "2024-01-25T15:33:39.836Z"
   },
   {
    "duration": 4,
    "start_time": "2024-01-25T15:33:39.875Z"
   },
   {
    "duration": 13,
    "start_time": "2024-01-25T15:33:39.881Z"
   },
   {
    "duration": 8,
    "start_time": "2024-01-25T15:33:39.896Z"
   },
   {
    "duration": 3,
    "start_time": "2024-01-25T15:33:39.906Z"
   },
   {
    "duration": 17,
    "start_time": "2024-01-25T15:33:39.910Z"
   },
   {
    "duration": 39,
    "start_time": "2024-01-25T15:33:39.928Z"
   },
   {
    "duration": 15,
    "start_time": "2024-01-25T15:33:39.968Z"
   },
   {
    "duration": 14,
    "start_time": "2024-01-25T15:33:39.984Z"
   },
   {
    "duration": 13,
    "start_time": "2024-01-25T15:33:40.000Z"
   },
   {
    "duration": 29,
    "start_time": "2024-01-25T15:33:40.015Z"
   },
   {
    "duration": 73,
    "start_time": "2024-01-25T15:33:40.065Z"
   },
   {
    "duration": 509,
    "start_time": "2024-01-25T15:41:12.383Z"
   },
   {
    "duration": 23,
    "start_time": "2024-01-25T15:41:12.894Z"
   },
   {
    "duration": 15,
    "start_time": "2024-01-25T15:41:12.919Z"
   },
   {
    "duration": 35,
    "start_time": "2024-01-25T15:41:12.936Z"
   },
   {
    "duration": 39,
    "start_time": "2024-01-25T15:41:12.973Z"
   },
   {
    "duration": 4,
    "start_time": "2024-01-25T15:41:13.014Z"
   },
   {
    "duration": 25,
    "start_time": "2024-01-25T15:41:13.020Z"
   },
   {
    "duration": 21,
    "start_time": "2024-01-25T15:41:13.047Z"
   },
   {
    "duration": 12,
    "start_time": "2024-01-25T15:41:13.070Z"
   },
   {
    "duration": 29,
    "start_time": "2024-01-25T15:41:13.087Z"
   },
   {
    "duration": 59,
    "start_time": "2024-01-25T15:41:13.118Z"
   },
   {
    "duration": 13,
    "start_time": "2024-01-25T15:41:13.179Z"
   },
   {
    "duration": 4,
    "start_time": "2024-01-25T15:41:13.194Z"
   },
   {
    "duration": 16,
    "start_time": "2024-01-25T15:41:13.200Z"
   },
   {
    "duration": 54,
    "start_time": "2024-01-25T15:41:13.217Z"
   },
   {
    "duration": 18,
    "start_time": "2024-01-25T15:41:13.273Z"
   },
   {
    "duration": 5,
    "start_time": "2024-01-25T15:41:13.292Z"
   },
   {
    "duration": 17,
    "start_time": "2024-01-25T15:41:13.299Z"
   },
   {
    "duration": 7,
    "start_time": "2024-01-25T15:41:13.317Z"
   },
   {
    "duration": 16,
    "start_time": "2024-01-25T15:41:13.326Z"
   },
   {
    "duration": 10,
    "start_time": "2024-01-25T15:41:13.366Z"
   },
   {
    "duration": 9,
    "start_time": "2024-01-25T15:41:13.378Z"
   },
   {
    "duration": 38,
    "start_time": "2024-01-25T15:41:13.388Z"
   },
   {
    "duration": 16,
    "start_time": "2024-01-25T15:41:13.428Z"
   },
   {
    "duration": 25,
    "start_time": "2024-01-25T15:41:13.445Z"
   },
   {
    "duration": 15,
    "start_time": "2024-01-25T15:41:13.472Z"
   },
   {
    "duration": 68,
    "start_time": "2024-01-25T15:41:13.489Z"
   },
   {
    "duration": 477,
    "start_time": "2024-01-25T15:41:26.972Z"
   },
   {
    "duration": 22,
    "start_time": "2024-01-25T15:41:27.451Z"
   },
   {
    "duration": 15,
    "start_time": "2024-01-25T15:41:27.474Z"
   },
   {
    "duration": 10,
    "start_time": "2024-01-25T15:41:27.491Z"
   },
   {
    "duration": 34,
    "start_time": "2024-01-25T15:41:27.503Z"
   },
   {
    "duration": 28,
    "start_time": "2024-01-25T15:41:27.539Z"
   },
   {
    "duration": 13,
    "start_time": "2024-01-25T15:41:27.568Z"
   },
   {
    "duration": 11,
    "start_time": "2024-01-25T15:41:27.582Z"
   },
   {
    "duration": 9,
    "start_time": "2024-01-25T15:41:27.594Z"
   },
   {
    "duration": 17,
    "start_time": "2024-01-25T15:41:27.604Z"
   },
   {
    "duration": 47,
    "start_time": "2024-01-25T15:41:27.622Z"
   },
   {
    "duration": 11,
    "start_time": "2024-01-25T15:41:27.670Z"
   },
   {
    "duration": 4,
    "start_time": "2024-01-25T15:41:27.682Z"
   },
   {
    "duration": 18,
    "start_time": "2024-01-25T15:41:27.688Z"
   },
   {
    "duration": 19,
    "start_time": "2024-01-25T15:41:27.708Z"
   },
   {
    "duration": 44,
    "start_time": "2024-01-25T15:41:27.729Z"
   },
   {
    "duration": 3,
    "start_time": "2024-01-25T15:41:27.775Z"
   },
   {
    "duration": 11,
    "start_time": "2024-01-25T15:41:27.780Z"
   },
   {
    "duration": 8,
    "start_time": "2024-01-25T15:41:27.792Z"
   },
   {
    "duration": 7,
    "start_time": "2024-01-25T15:41:27.801Z"
   },
   {
    "duration": 13,
    "start_time": "2024-01-25T15:41:27.809Z"
   },
   {
    "duration": 3,
    "start_time": "2024-01-25T15:41:27.824Z"
   },
   {
    "duration": 44,
    "start_time": "2024-01-25T15:41:27.828Z"
   },
   {
    "duration": 15,
    "start_time": "2024-01-25T15:41:27.874Z"
   },
   {
    "duration": 17,
    "start_time": "2024-01-25T15:41:27.891Z"
   },
   {
    "duration": 15,
    "start_time": "2024-01-25T15:41:27.909Z"
   },
   {
    "duration": 444,
    "start_time": "2024-01-25T17:06:11.007Z"
   },
   {
    "duration": 21,
    "start_time": "2024-01-25T17:06:11.453Z"
   },
   {
    "duration": 19,
    "start_time": "2024-01-25T17:06:11.475Z"
   },
   {
    "duration": 32,
    "start_time": "2024-01-25T17:06:11.495Z"
   },
   {
    "duration": 50,
    "start_time": "2024-01-25T17:06:11.529Z"
   },
   {
    "duration": 3,
    "start_time": "2024-01-25T17:06:11.581Z"
   },
   {
    "duration": 44,
    "start_time": "2024-01-25T17:06:11.586Z"
   },
   {
    "duration": 30,
    "start_time": "2024-01-25T17:06:11.631Z"
   },
   {
    "duration": 16,
    "start_time": "2024-01-25T17:06:11.663Z"
   },
   {
    "duration": 23,
    "start_time": "2024-01-25T17:06:11.680Z"
   },
   {
    "duration": 53,
    "start_time": "2024-01-25T17:06:11.704Z"
   },
   {
    "duration": 10,
    "start_time": "2024-01-25T17:06:11.758Z"
   },
   {
    "duration": 4,
    "start_time": "2024-01-25T17:06:11.770Z"
   },
   {
    "duration": 24,
    "start_time": "2024-01-25T17:06:11.776Z"
   },
   {
    "duration": 26,
    "start_time": "2024-01-25T17:06:11.802Z"
   },
   {
    "duration": 16,
    "start_time": "2024-01-25T17:06:11.829Z"
   },
   {
    "duration": 3,
    "start_time": "2024-01-25T17:06:11.847Z"
   },
   {
    "duration": 10,
    "start_time": "2024-01-25T17:06:11.865Z"
   },
   {
    "duration": 8,
    "start_time": "2024-01-25T17:06:11.877Z"
   },
   {
    "duration": 4,
    "start_time": "2024-01-25T17:06:11.887Z"
   },
   {
    "duration": 19,
    "start_time": "2024-01-25T17:06:11.893Z"
   },
   {
    "duration": 6,
    "start_time": "2024-01-25T17:06:11.914Z"
   },
   {
    "duration": 45,
    "start_time": "2024-01-25T17:06:11.922Z"
   },
   {
    "duration": 85,
    "start_time": "2024-01-25T17:06:11.969Z"
   },
   {
    "duration": 0,
    "start_time": "2024-01-25T17:06:12.066Z"
   },
   {
    "duration": 0,
    "start_time": "2024-01-25T17:06:12.067Z"
   },
   {
    "duration": 0,
    "start_time": "2024-01-25T17:06:12.069Z"
   },
   {
    "duration": 13,
    "start_time": "2024-01-25T17:07:15.910Z"
   },
   {
    "duration": 507,
    "start_time": "2024-01-25T17:07:22.238Z"
   },
   {
    "duration": 23,
    "start_time": "2024-01-25T17:07:22.747Z"
   },
   {
    "duration": 40,
    "start_time": "2024-01-25T17:07:22.771Z"
   },
   {
    "duration": 40,
    "start_time": "2024-01-25T17:07:22.813Z"
   },
   {
    "duration": 97,
    "start_time": "2024-01-25T17:07:22.855Z"
   },
   {
    "duration": 27,
    "start_time": "2024-01-25T17:07:22.954Z"
   },
   {
    "duration": 49,
    "start_time": "2024-01-25T17:07:22.983Z"
   },
   {
    "duration": 55,
    "start_time": "2024-01-25T17:07:23.033Z"
   },
   {
    "duration": 59,
    "start_time": "2024-01-25T17:07:23.089Z"
   },
   {
    "duration": 37,
    "start_time": "2024-01-25T17:07:23.152Z"
   },
   {
    "duration": 78,
    "start_time": "2024-01-25T17:07:23.191Z"
   },
   {
    "duration": 43,
    "start_time": "2024-01-25T17:07:23.270Z"
   },
   {
    "duration": 26,
    "start_time": "2024-01-25T17:07:23.314Z"
   },
   {
    "duration": 55,
    "start_time": "2024-01-25T17:07:23.342Z"
   },
   {
    "duration": 63,
    "start_time": "2024-01-25T17:07:23.399Z"
   },
   {
    "duration": 52,
    "start_time": "2024-01-25T17:07:23.463Z"
   },
   {
    "duration": 23,
    "start_time": "2024-01-25T17:07:23.516Z"
   },
   {
    "duration": 52,
    "start_time": "2024-01-25T17:07:23.540Z"
   },
   {
    "duration": 54,
    "start_time": "2024-01-25T17:07:23.594Z"
   },
   {
    "duration": 40,
    "start_time": "2024-01-25T17:07:23.649Z"
   },
   {
    "duration": 62,
    "start_time": "2024-01-25T17:07:23.691Z"
   },
   {
    "duration": 56,
    "start_time": "2024-01-25T17:07:23.755Z"
   },
   {
    "duration": 46,
    "start_time": "2024-01-25T17:07:23.812Z"
   },
   {
    "duration": 83,
    "start_time": "2024-01-25T17:07:23.859Z"
   },
   {
    "duration": 0,
    "start_time": "2024-01-25T17:07:23.944Z"
   },
   {
    "duration": 0,
    "start_time": "2024-01-25T17:07:23.945Z"
   },
   {
    "duration": 0,
    "start_time": "2024-01-25T17:07:23.945Z"
   },
   {
    "duration": 493,
    "start_time": "2024-01-25T17:08:09.435Z"
   },
   {
    "duration": 21,
    "start_time": "2024-01-25T17:08:09.930Z"
   },
   {
    "duration": 22,
    "start_time": "2024-01-25T17:08:09.953Z"
   },
   {
    "duration": 10,
    "start_time": "2024-01-25T17:08:09.977Z"
   },
   {
    "duration": 34,
    "start_time": "2024-01-25T17:08:09.989Z"
   },
   {
    "duration": 3,
    "start_time": "2024-01-25T17:08:10.025Z"
   },
   {
    "duration": 36,
    "start_time": "2024-01-25T17:08:10.030Z"
   },
   {
    "duration": 5,
    "start_time": "2024-01-25T17:08:10.068Z"
   },
   {
    "duration": 15,
    "start_time": "2024-01-25T17:08:10.075Z"
   },
   {
    "duration": 6,
    "start_time": "2024-01-25T17:08:10.094Z"
   },
   {
    "duration": 49,
    "start_time": "2024-01-25T17:08:10.102Z"
   },
   {
    "duration": 16,
    "start_time": "2024-01-25T17:08:10.153Z"
   },
   {
    "duration": 4,
    "start_time": "2024-01-25T17:08:10.171Z"
   },
   {
    "duration": 18,
    "start_time": "2024-01-25T17:08:10.177Z"
   },
   {
    "duration": 28,
    "start_time": "2024-01-25T17:08:10.196Z"
   },
   {
    "duration": 42,
    "start_time": "2024-01-25T17:08:10.226Z"
   },
   {
    "duration": 5,
    "start_time": "2024-01-25T17:08:10.269Z"
   },
   {
    "duration": 23,
    "start_time": "2024-01-25T17:08:10.276Z"
   },
   {
    "duration": 8,
    "start_time": "2024-01-25T17:08:10.301Z"
   },
   {
    "duration": 4,
    "start_time": "2024-01-25T17:08:10.311Z"
   },
   {
    "duration": 16,
    "start_time": "2024-01-25T17:08:10.317Z"
   },
   {
    "duration": 32,
    "start_time": "2024-01-25T17:08:10.335Z"
   },
   {
    "duration": 28,
    "start_time": "2024-01-25T17:08:10.369Z"
   },
   {
    "duration": 21,
    "start_time": "2024-01-25T17:08:10.399Z"
   },
   {
    "duration": 17,
    "start_time": "2024-01-25T17:08:10.422Z"
   },
   {
    "duration": 24,
    "start_time": "2024-01-25T17:08:10.440Z"
   },
   {
    "duration": 15,
    "start_time": "2024-01-25T17:08:10.467Z"
   },
   {
    "duration": 521,
    "start_time": "2024-01-25T17:13:13.537Z"
   },
   {
    "duration": 25,
    "start_time": "2024-01-25T17:13:14.060Z"
   },
   {
    "duration": 53,
    "start_time": "2024-01-25T17:13:14.086Z"
   },
   {
    "duration": 27,
    "start_time": "2024-01-25T17:13:14.142Z"
   },
   {
    "duration": 59,
    "start_time": "2024-01-25T17:13:14.171Z"
   },
   {
    "duration": 3,
    "start_time": "2024-01-25T17:13:14.232Z"
   },
   {
    "duration": 35,
    "start_time": "2024-01-25T17:13:14.237Z"
   },
   {
    "duration": 41,
    "start_time": "2024-01-25T17:13:14.273Z"
   },
   {
    "duration": 20,
    "start_time": "2024-01-25T17:13:14.316Z"
   },
   {
    "duration": 32,
    "start_time": "2024-01-25T17:13:14.340Z"
   },
   {
    "duration": 68,
    "start_time": "2024-01-25T17:13:14.373Z"
   },
   {
    "duration": 9,
    "start_time": "2024-01-25T17:13:14.443Z"
   },
   {
    "duration": 42,
    "start_time": "2024-01-25T17:13:14.453Z"
   },
   {
    "duration": 57,
    "start_time": "2024-01-25T17:13:14.496Z"
   },
   {
    "duration": 53,
    "start_time": "2024-01-25T17:13:14.555Z"
   },
   {
    "duration": 29,
    "start_time": "2024-01-25T17:13:14.610Z"
   },
   {
    "duration": 36,
    "start_time": "2024-01-25T17:13:14.640Z"
   },
   {
    "duration": 66,
    "start_time": "2024-01-25T17:13:14.677Z"
   },
   {
    "duration": 75,
    "start_time": "2024-01-25T17:13:14.744Z"
   },
   {
    "duration": 24,
    "start_time": "2024-01-25T17:13:14.821Z"
   },
   {
    "duration": 42,
    "start_time": "2024-01-25T17:13:14.847Z"
   },
   {
    "duration": 13,
    "start_time": "2024-01-25T17:13:14.891Z"
   },
   {
    "duration": 31,
    "start_time": "2024-01-25T17:13:14.905Z"
   },
   {
    "duration": 34,
    "start_time": "2024-01-25T17:13:14.938Z"
   },
   {
    "duration": 59,
    "start_time": "2024-01-25T17:13:14.973Z"
   },
   {
    "duration": 69,
    "start_time": "2024-01-25T17:13:15.034Z"
   },
   {
    "duration": 82,
    "start_time": "2024-01-25T17:13:15.105Z"
   },
   {
    "duration": 0,
    "start_time": "2024-01-25T17:13:15.189Z"
   },
   {
    "duration": 455,
    "start_time": "2024-01-25T17:13:57.579Z"
   },
   {
    "duration": 21,
    "start_time": "2024-01-25T17:13:58.036Z"
   },
   {
    "duration": 45,
    "start_time": "2024-01-25T17:13:58.059Z"
   },
   {
    "duration": 31,
    "start_time": "2024-01-25T17:13:58.106Z"
   },
   {
    "duration": 58,
    "start_time": "2024-01-25T17:13:58.139Z"
   },
   {
    "duration": 40,
    "start_time": "2024-01-25T17:13:58.198Z"
   },
   {
    "duration": 27,
    "start_time": "2024-01-25T17:13:58.240Z"
   },
   {
    "duration": 32,
    "start_time": "2024-01-25T17:13:58.268Z"
   },
   {
    "duration": 18,
    "start_time": "2024-01-25T17:13:58.302Z"
   },
   {
    "duration": 16,
    "start_time": "2024-01-25T17:13:58.322Z"
   },
   {
    "duration": 52,
    "start_time": "2024-01-25T17:13:58.339Z"
   },
   {
    "duration": 10,
    "start_time": "2024-01-25T17:13:58.392Z"
   },
   {
    "duration": 24,
    "start_time": "2024-01-25T17:13:58.403Z"
   },
   {
    "duration": 32,
    "start_time": "2024-01-25T17:13:58.429Z"
   },
   {
    "duration": 31,
    "start_time": "2024-01-25T17:13:58.463Z"
   },
   {
    "duration": 15,
    "start_time": "2024-01-25T17:13:58.496Z"
   },
   {
    "duration": 29,
    "start_time": "2024-01-25T17:13:58.513Z"
   },
   {
    "duration": 33,
    "start_time": "2024-01-25T17:13:58.543Z"
   },
   {
    "duration": 27,
    "start_time": "2024-01-25T17:13:58.577Z"
   },
   {
    "duration": 7,
    "start_time": "2024-01-25T17:13:58.605Z"
   },
   {
    "duration": 34,
    "start_time": "2024-01-25T17:13:58.613Z"
   },
   {
    "duration": 29,
    "start_time": "2024-01-25T17:13:58.648Z"
   },
   {
    "duration": 34,
    "start_time": "2024-01-25T17:13:58.679Z"
   },
   {
    "duration": 24,
    "start_time": "2024-01-25T17:13:58.715Z"
   },
   {
    "duration": 32,
    "start_time": "2024-01-25T17:13:58.740Z"
   },
   {
    "duration": 15,
    "start_time": "2024-01-25T17:13:58.773Z"
   },
   {
    "duration": 22,
    "start_time": "2024-01-25T17:13:58.789Z"
   },
   {
    "duration": 34,
    "start_time": "2024-01-25T17:13:58.813Z"
   },
   {
    "duration": 511,
    "start_time": "2024-01-25T17:16:04.737Z"
   },
   {
    "duration": 21,
    "start_time": "2024-01-25T17:16:05.249Z"
   },
   {
    "duration": 20,
    "start_time": "2024-01-25T17:16:05.272Z"
   },
   {
    "duration": 27,
    "start_time": "2024-01-25T17:16:05.294Z"
   },
   {
    "duration": 39,
    "start_time": "2024-01-25T17:16:05.323Z"
   },
   {
    "duration": 3,
    "start_time": "2024-01-25T17:16:05.364Z"
   },
   {
    "duration": 17,
    "start_time": "2024-01-25T17:16:05.368Z"
   },
   {
    "duration": 6,
    "start_time": "2024-01-25T17:16:05.386Z"
   },
   {
    "duration": 22,
    "start_time": "2024-01-25T17:16:05.394Z"
   },
   {
    "duration": 6,
    "start_time": "2024-01-25T17:16:05.418Z"
   },
   {
    "duration": 52,
    "start_time": "2024-01-25T17:16:05.425Z"
   },
   {
    "duration": 10,
    "start_time": "2024-01-25T17:16:05.479Z"
   },
   {
    "duration": 30,
    "start_time": "2024-01-25T17:16:05.490Z"
   },
   {
    "duration": 23,
    "start_time": "2024-01-25T17:16:05.522Z"
   },
   {
    "duration": 31,
    "start_time": "2024-01-25T17:16:05.546Z"
   },
   {
    "duration": 17,
    "start_time": "2024-01-25T17:16:05.579Z"
   },
   {
    "duration": 4,
    "start_time": "2024-01-25T17:16:05.597Z"
   },
   {
    "duration": 19,
    "start_time": "2024-01-25T17:16:05.603Z"
   },
   {
    "duration": 7,
    "start_time": "2024-01-25T17:16:05.624Z"
   },
   {
    "duration": 34,
    "start_time": "2024-01-25T17:16:05.633Z"
   },
   {
    "duration": 10,
    "start_time": "2024-01-25T17:16:05.668Z"
   },
   {
    "duration": 4,
    "start_time": "2024-01-25T17:16:05.679Z"
   },
   {
    "duration": 18,
    "start_time": "2024-01-25T17:16:05.684Z"
   },
   {
    "duration": 11,
    "start_time": "2024-01-25T17:16:05.704Z"
   },
   {
    "duration": 31,
    "start_time": "2024-01-25T17:16:05.717Z"
   },
   {
    "duration": 28,
    "start_time": "2024-01-25T17:16:05.750Z"
   },
   {
    "duration": 9,
    "start_time": "2024-01-25T17:16:05.780Z"
   },
   {
    "duration": 17,
    "start_time": "2024-01-25T17:16:05.790Z"
   },
   {
    "duration": 433,
    "start_time": "2024-01-25T17:42:13.415Z"
   },
   {
    "duration": 20,
    "start_time": "2024-01-25T17:42:13.850Z"
   },
   {
    "duration": 15,
    "start_time": "2024-01-25T17:42:13.871Z"
   },
   {
    "duration": 10,
    "start_time": "2024-01-25T17:42:13.888Z"
   },
   {
    "duration": 34,
    "start_time": "2024-01-25T17:42:13.900Z"
   },
   {
    "duration": 31,
    "start_time": "2024-01-25T17:42:13.936Z"
   },
   {
    "duration": 10,
    "start_time": "2024-01-25T17:42:13.968Z"
   },
   {
    "duration": 13,
    "start_time": "2024-01-25T17:42:13.980Z"
   },
   {
    "duration": 14,
    "start_time": "2024-01-25T17:42:13.995Z"
   },
   {
    "duration": 5,
    "start_time": "2024-01-25T17:42:14.011Z"
   },
   {
    "duration": 53,
    "start_time": "2024-01-25T17:42:14.017Z"
   },
   {
    "duration": 10,
    "start_time": "2024-01-25T17:42:14.072Z"
   },
   {
    "duration": 13,
    "start_time": "2024-01-25T17:42:14.083Z"
   },
   {
    "duration": 28,
    "start_time": "2024-01-25T17:42:14.099Z"
   },
   {
    "duration": 25,
    "start_time": "2024-01-25T17:42:14.129Z"
   },
   {
    "duration": 24,
    "start_time": "2024-01-25T17:42:14.156Z"
   },
   {
    "duration": 4,
    "start_time": "2024-01-25T17:42:14.181Z"
   },
   {
    "duration": 15,
    "start_time": "2024-01-25T17:42:14.187Z"
   },
   {
    "duration": 19,
    "start_time": "2024-01-25T17:42:14.203Z"
   },
   {
    "duration": 14,
    "start_time": "2024-01-25T17:42:14.224Z"
   },
   {
    "duration": 12,
    "start_time": "2024-01-25T17:42:14.239Z"
   },
   {
    "duration": 65,
    "start_time": "2024-01-25T17:42:14.253Z"
   },
   {
    "duration": 32,
    "start_time": "2024-01-25T17:42:14.319Z"
   },
   {
    "duration": 11,
    "start_time": "2024-01-25T17:42:14.353Z"
   },
   {
    "duration": 23,
    "start_time": "2024-01-25T17:42:14.366Z"
   },
   {
    "duration": 15,
    "start_time": "2024-01-25T17:42:14.391Z"
   },
   {
    "duration": 9,
    "start_time": "2024-01-25T17:42:14.408Z"
   },
   {
    "duration": 49,
    "start_time": "2024-01-25T17:42:14.419Z"
   },
   {
    "duration": 81,
    "start_time": "2024-06-24T09:09:11.692Z"
   },
   {
    "duration": 679,
    "start_time": "2024-06-24T09:10:13.397Z"
   },
   {
    "duration": 24,
    "start_time": "2024-06-24T09:10:14.078Z"
   },
   {
    "duration": 33,
    "start_time": "2024-06-24T09:10:14.104Z"
   },
   {
    "duration": 19,
    "start_time": "2024-06-24T09:10:14.139Z"
   },
   {
    "duration": 42,
    "start_time": "2024-06-24T09:10:14.160Z"
   },
   {
    "duration": 3,
    "start_time": "2024-06-24T09:10:14.204Z"
   },
   {
    "duration": 41,
    "start_time": "2024-06-24T09:10:14.208Z"
   },
   {
    "duration": 4,
    "start_time": "2024-06-24T09:10:14.251Z"
   },
   {
    "duration": 13,
    "start_time": "2024-06-24T09:10:14.256Z"
   },
   {
    "duration": 7,
    "start_time": "2024-06-24T09:10:14.274Z"
   },
   {
    "duration": 75,
    "start_time": "2024-06-24T09:10:14.283Z"
   },
   {
    "duration": 11,
    "start_time": "2024-06-24T09:10:14.359Z"
   },
   {
    "duration": 12,
    "start_time": "2024-06-24T09:10:14.371Z"
   },
   {
    "duration": 21,
    "start_time": "2024-06-24T09:10:14.385Z"
   },
   {
    "duration": 36,
    "start_time": "2024-06-24T09:10:14.407Z"
   },
   {
    "duration": 18,
    "start_time": "2024-06-24T09:10:14.445Z"
   },
   {
    "duration": 4,
    "start_time": "2024-06-24T09:10:14.464Z"
   },
   {
    "duration": 14,
    "start_time": "2024-06-24T09:10:14.469Z"
   },
   {
    "duration": 8,
    "start_time": "2024-06-24T09:10:14.485Z"
   },
   {
    "duration": 31,
    "start_time": "2024-06-24T09:10:14.495Z"
   },
   {
    "duration": 46,
    "start_time": "2024-06-24T09:10:14.527Z"
   },
   {
    "duration": 15,
    "start_time": "2024-06-24T09:10:14.575Z"
   },
   {
    "duration": 49,
    "start_time": "2024-06-24T09:10:14.592Z"
   },
   {
    "duration": 15,
    "start_time": "2024-06-24T09:10:14.643Z"
   },
   {
    "duration": 30,
    "start_time": "2024-06-24T09:10:14.660Z"
   },
   {
    "duration": 40,
    "start_time": "2024-06-24T09:10:14.692Z"
   },
   {
    "duration": 9,
    "start_time": "2024-06-24T09:10:14.733Z"
   },
   {
    "duration": 30,
    "start_time": "2024-06-24T09:10:14.745Z"
   }
  ],
  "colab": {
   "name": "dpp_template_part2.ipynb",
   "provenance": []
  },
  "kernelspec": {
   "display_name": "Python 3 (ipykernel)",
   "language": "python",
   "name": "python3"
  },
  "language_info": {
   "codemirror_mode": {
    "name": "ipython",
    "version": 3
   },
   "file_extension": ".py",
   "mimetype": "text/x-python",
   "name": "python",
   "nbconvert_exporter": "python",
   "pygments_lexer": "ipython3",
   "version": "3.9.5"
  },
  "toc": {
   "base_numbering": 1,
   "nav_menu": {},
   "number_sections": true,
   "sideBar": true,
   "skip_h1_title": true,
   "title_cell": "Table of Contents",
   "title_sidebar": "Contents",
   "toc_cell": false,
   "toc_position": {},
   "toc_section_display": true,
   "toc_window_display": false
  }
 },
 "nbformat": 4,
 "nbformat_minor": 5
}
